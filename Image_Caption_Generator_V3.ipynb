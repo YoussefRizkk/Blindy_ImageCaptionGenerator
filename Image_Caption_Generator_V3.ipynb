{
  "nbformat": 4,
  "nbformat_minor": 0,
  "metadata": {
    "colab": {
      "name": "Image Caption Generator V3.ipynb",
      "provenance": [],
      "authorship_tag": "ABX9TyOrVPea2OutYNmR/OJGMDTN",
      "include_colab_link": true
    },
    "kernelspec": {
      "name": "python3",
      "display_name": "Python 3"
    },
    "language_info": {
      "name": "python"
    },
    "gpuClass": "standard",
    "accelerator": "GPU",
    "widgets": {
      "application/vnd.jupyter.widget-state+json": {
        "5d0c9113c49e4bb0ab4bc5658a15b67f": {
          "model_module": "@jupyter-widgets/controls",
          "model_name": "HBoxModel",
          "model_module_version": "1.5.0",
          "state": {
            "_dom_classes": [],
            "_model_module": "@jupyter-widgets/controls",
            "_model_module_version": "1.5.0",
            "_model_name": "HBoxModel",
            "_view_count": null,
            "_view_module": "@jupyter-widgets/controls",
            "_view_module_version": "1.5.0",
            "_view_name": "HBoxView",
            "box_style": "",
            "children": [
              "IPY_MODEL_0dec376e25c64d10900e621dc83f170a",
              "IPY_MODEL_df08de6170e24c019e9f51707aa85331",
              "IPY_MODEL_38555afe38864334ba59ea2eac625e41"
            ],
            "layout": "IPY_MODEL_df66136001474abcb2f9d6d461385db4"
          }
        },
        "0dec376e25c64d10900e621dc83f170a": {
          "model_module": "@jupyter-widgets/controls",
          "model_name": "HTMLModel",
          "model_module_version": "1.5.0",
          "state": {
            "_dom_classes": [],
            "_model_module": "@jupyter-widgets/controls",
            "_model_module_version": "1.5.0",
            "_model_name": "HTMLModel",
            "_view_count": null,
            "_view_module": "@jupyter-widgets/controls",
            "_view_module_version": "1.5.0",
            "_view_name": "HTMLView",
            "description": "",
            "description_tooltip": null,
            "layout": "IPY_MODEL_baf783c81d7e410dad3e9affb1510740",
            "placeholder": "​",
            "style": "IPY_MODEL_0ddb402c57594b4cba3a7ab7f1d23c98",
            "value": "100%"
          }
        },
        "df08de6170e24c019e9f51707aa85331": {
          "model_module": "@jupyter-widgets/controls",
          "model_name": "FloatProgressModel",
          "model_module_version": "1.5.0",
          "state": {
            "_dom_classes": [],
            "_model_module": "@jupyter-widgets/controls",
            "_model_module_version": "1.5.0",
            "_model_name": "FloatProgressModel",
            "_view_count": null,
            "_view_module": "@jupyter-widgets/controls",
            "_view_module_version": "1.5.0",
            "_view_name": "ProgressView",
            "bar_style": "success",
            "description": "",
            "description_tooltip": null,
            "layout": "IPY_MODEL_3f1da58c19954f6ab5631f2a3c4cbd88",
            "max": 8091,
            "min": 0,
            "orientation": "horizontal",
            "style": "IPY_MODEL_6fa758eccfc14d50966ff7ab5d7d7cdf",
            "value": 8091
          }
        },
        "38555afe38864334ba59ea2eac625e41": {
          "model_module": "@jupyter-widgets/controls",
          "model_name": "HTMLModel",
          "model_module_version": "1.5.0",
          "state": {
            "_dom_classes": [],
            "_model_module": "@jupyter-widgets/controls",
            "_model_module_version": "1.5.0",
            "_model_name": "HTMLModel",
            "_view_count": null,
            "_view_module": "@jupyter-widgets/controls",
            "_view_module_version": "1.5.0",
            "_view_name": "HTMLView",
            "description": "",
            "description_tooltip": null,
            "layout": "IPY_MODEL_adb6bb32dbdb4a48ba83dde9f46a2d97",
            "placeholder": "​",
            "style": "IPY_MODEL_1d72141fc52143838e28e4500ae8a14e",
            "value": " 8091/8091 [12:38&lt;00:00, 12.13it/s]"
          }
        },
        "df66136001474abcb2f9d6d461385db4": {
          "model_module": "@jupyter-widgets/base",
          "model_name": "LayoutModel",
          "model_module_version": "1.2.0",
          "state": {
            "_model_module": "@jupyter-widgets/base",
            "_model_module_version": "1.2.0",
            "_model_name": "LayoutModel",
            "_view_count": null,
            "_view_module": "@jupyter-widgets/base",
            "_view_module_version": "1.2.0",
            "_view_name": "LayoutView",
            "align_content": null,
            "align_items": null,
            "align_self": null,
            "border": null,
            "bottom": null,
            "display": null,
            "flex": null,
            "flex_flow": null,
            "grid_area": null,
            "grid_auto_columns": null,
            "grid_auto_flow": null,
            "grid_auto_rows": null,
            "grid_column": null,
            "grid_gap": null,
            "grid_row": null,
            "grid_template_areas": null,
            "grid_template_columns": null,
            "grid_template_rows": null,
            "height": null,
            "justify_content": null,
            "justify_items": null,
            "left": null,
            "margin": null,
            "max_height": null,
            "max_width": null,
            "min_height": null,
            "min_width": null,
            "object_fit": null,
            "object_position": null,
            "order": null,
            "overflow": null,
            "overflow_x": null,
            "overflow_y": null,
            "padding": null,
            "right": null,
            "top": null,
            "visibility": null,
            "width": null
          }
        },
        "baf783c81d7e410dad3e9affb1510740": {
          "model_module": "@jupyter-widgets/base",
          "model_name": "LayoutModel",
          "model_module_version": "1.2.0",
          "state": {
            "_model_module": "@jupyter-widgets/base",
            "_model_module_version": "1.2.0",
            "_model_name": "LayoutModel",
            "_view_count": null,
            "_view_module": "@jupyter-widgets/base",
            "_view_module_version": "1.2.0",
            "_view_name": "LayoutView",
            "align_content": null,
            "align_items": null,
            "align_self": null,
            "border": null,
            "bottom": null,
            "display": null,
            "flex": null,
            "flex_flow": null,
            "grid_area": null,
            "grid_auto_columns": null,
            "grid_auto_flow": null,
            "grid_auto_rows": null,
            "grid_column": null,
            "grid_gap": null,
            "grid_row": null,
            "grid_template_areas": null,
            "grid_template_columns": null,
            "grid_template_rows": null,
            "height": null,
            "justify_content": null,
            "justify_items": null,
            "left": null,
            "margin": null,
            "max_height": null,
            "max_width": null,
            "min_height": null,
            "min_width": null,
            "object_fit": null,
            "object_position": null,
            "order": null,
            "overflow": null,
            "overflow_x": null,
            "overflow_y": null,
            "padding": null,
            "right": null,
            "top": null,
            "visibility": null,
            "width": null
          }
        },
        "0ddb402c57594b4cba3a7ab7f1d23c98": {
          "model_module": "@jupyter-widgets/controls",
          "model_name": "DescriptionStyleModel",
          "model_module_version": "1.5.0",
          "state": {
            "_model_module": "@jupyter-widgets/controls",
            "_model_module_version": "1.5.0",
            "_model_name": "DescriptionStyleModel",
            "_view_count": null,
            "_view_module": "@jupyter-widgets/base",
            "_view_module_version": "1.2.0",
            "_view_name": "StyleView",
            "description_width": ""
          }
        },
        "3f1da58c19954f6ab5631f2a3c4cbd88": {
          "model_module": "@jupyter-widgets/base",
          "model_name": "LayoutModel",
          "model_module_version": "1.2.0",
          "state": {
            "_model_module": "@jupyter-widgets/base",
            "_model_module_version": "1.2.0",
            "_model_name": "LayoutModel",
            "_view_count": null,
            "_view_module": "@jupyter-widgets/base",
            "_view_module_version": "1.2.0",
            "_view_name": "LayoutView",
            "align_content": null,
            "align_items": null,
            "align_self": null,
            "border": null,
            "bottom": null,
            "display": null,
            "flex": null,
            "flex_flow": null,
            "grid_area": null,
            "grid_auto_columns": null,
            "grid_auto_flow": null,
            "grid_auto_rows": null,
            "grid_column": null,
            "grid_gap": null,
            "grid_row": null,
            "grid_template_areas": null,
            "grid_template_columns": null,
            "grid_template_rows": null,
            "height": null,
            "justify_content": null,
            "justify_items": null,
            "left": null,
            "margin": null,
            "max_height": null,
            "max_width": null,
            "min_height": null,
            "min_width": null,
            "object_fit": null,
            "object_position": null,
            "order": null,
            "overflow": null,
            "overflow_x": null,
            "overflow_y": null,
            "padding": null,
            "right": null,
            "top": null,
            "visibility": null,
            "width": null
          }
        },
        "6fa758eccfc14d50966ff7ab5d7d7cdf": {
          "model_module": "@jupyter-widgets/controls",
          "model_name": "ProgressStyleModel",
          "model_module_version": "1.5.0",
          "state": {
            "_model_module": "@jupyter-widgets/controls",
            "_model_module_version": "1.5.0",
            "_model_name": "ProgressStyleModel",
            "_view_count": null,
            "_view_module": "@jupyter-widgets/base",
            "_view_module_version": "1.2.0",
            "_view_name": "StyleView",
            "bar_color": null,
            "description_width": ""
          }
        },
        "adb6bb32dbdb4a48ba83dde9f46a2d97": {
          "model_module": "@jupyter-widgets/base",
          "model_name": "LayoutModel",
          "model_module_version": "1.2.0",
          "state": {
            "_model_module": "@jupyter-widgets/base",
            "_model_module_version": "1.2.0",
            "_model_name": "LayoutModel",
            "_view_count": null,
            "_view_module": "@jupyter-widgets/base",
            "_view_module_version": "1.2.0",
            "_view_name": "LayoutView",
            "align_content": null,
            "align_items": null,
            "align_self": null,
            "border": null,
            "bottom": null,
            "display": null,
            "flex": null,
            "flex_flow": null,
            "grid_area": null,
            "grid_auto_columns": null,
            "grid_auto_flow": null,
            "grid_auto_rows": null,
            "grid_column": null,
            "grid_gap": null,
            "grid_row": null,
            "grid_template_areas": null,
            "grid_template_columns": null,
            "grid_template_rows": null,
            "height": null,
            "justify_content": null,
            "justify_items": null,
            "left": null,
            "margin": null,
            "max_height": null,
            "max_width": null,
            "min_height": null,
            "min_width": null,
            "object_fit": null,
            "object_position": null,
            "order": null,
            "overflow": null,
            "overflow_x": null,
            "overflow_y": null,
            "padding": null,
            "right": null,
            "top": null,
            "visibility": null,
            "width": null
          }
        },
        "1d72141fc52143838e28e4500ae8a14e": {
          "model_module": "@jupyter-widgets/controls",
          "model_name": "DescriptionStyleModel",
          "model_module_version": "1.5.0",
          "state": {
            "_model_module": "@jupyter-widgets/controls",
            "_model_module_version": "1.5.0",
            "_model_name": "DescriptionStyleModel",
            "_view_count": null,
            "_view_module": "@jupyter-widgets/base",
            "_view_module_version": "1.2.0",
            "_view_name": "StyleView",
            "description_width": ""
          }
        },
        "beb719da628142768a75fb32cab0b400": {
          "model_module": "@jupyter-widgets/controls",
          "model_name": "HBoxModel",
          "model_module_version": "1.5.0",
          "state": {
            "_dom_classes": [],
            "_model_module": "@jupyter-widgets/controls",
            "_model_module_version": "1.5.0",
            "_model_name": "HBoxModel",
            "_view_count": null,
            "_view_module": "@jupyter-widgets/controls",
            "_view_module_version": "1.5.0",
            "_view_name": "HBoxView",
            "box_style": "",
            "children": [
              "IPY_MODEL_16a003bd7ed6476bb486974048b0c12a",
              "IPY_MODEL_752bbbd27bc048778e712a7d8608ba31",
              "IPY_MODEL_8f42953f17f54942bf1d3d3d7ff2c37c"
            ],
            "layout": "IPY_MODEL_3a1fb3e4fa844f91bdb4987f13f68ea1"
          }
        },
        "16a003bd7ed6476bb486974048b0c12a": {
          "model_module": "@jupyter-widgets/controls",
          "model_name": "HTMLModel",
          "model_module_version": "1.5.0",
          "state": {
            "_dom_classes": [],
            "_model_module": "@jupyter-widgets/controls",
            "_model_module_version": "1.5.0",
            "_model_name": "HTMLModel",
            "_view_count": null,
            "_view_module": "@jupyter-widgets/controls",
            "_view_module_version": "1.5.0",
            "_view_name": "HTMLView",
            "description": "",
            "description_tooltip": null,
            "layout": "IPY_MODEL_4c8a67947552415d840ca2151417717f",
            "placeholder": "​",
            "style": "IPY_MODEL_567820eb23fd4facaf32d83665888f6c",
            "value": "100%"
          }
        },
        "752bbbd27bc048778e712a7d8608ba31": {
          "model_module": "@jupyter-widgets/controls",
          "model_name": "FloatProgressModel",
          "model_module_version": "1.5.0",
          "state": {
            "_dom_classes": [],
            "_model_module": "@jupyter-widgets/controls",
            "_model_module_version": "1.5.0",
            "_model_name": "FloatProgressModel",
            "_view_count": null,
            "_view_module": "@jupyter-widgets/controls",
            "_view_module_version": "1.5.0",
            "_view_name": "ProgressView",
            "bar_style": "success",
            "description": "",
            "description_tooltip": null,
            "layout": "IPY_MODEL_d271c18eff584ae5807744d7fb0f4717",
            "max": 1214,
            "min": 0,
            "orientation": "horizontal",
            "style": "IPY_MODEL_99decc32eec7424380d12e2e8d3b2629",
            "value": 1214
          }
        },
        "8f42953f17f54942bf1d3d3d7ff2c37c": {
          "model_module": "@jupyter-widgets/controls",
          "model_name": "HTMLModel",
          "model_module_version": "1.5.0",
          "state": {
            "_dom_classes": [],
            "_model_module": "@jupyter-widgets/controls",
            "_model_module_version": "1.5.0",
            "_model_name": "HTMLModel",
            "_view_count": null,
            "_view_module": "@jupyter-widgets/controls",
            "_view_module_version": "1.5.0",
            "_view_name": "HTMLView",
            "description": "",
            "description_tooltip": null,
            "layout": "IPY_MODEL_706b2e8e2abf4e40b6f7b3949fcf197f",
            "placeholder": "​",
            "style": "IPY_MODEL_bba207c5dad046d99292ec05be0369fb",
            "value": " 1214/1214 [09:43&lt;00:00,  2.44it/s]"
          }
        },
        "3a1fb3e4fa844f91bdb4987f13f68ea1": {
          "model_module": "@jupyter-widgets/base",
          "model_name": "LayoutModel",
          "model_module_version": "1.2.0",
          "state": {
            "_model_module": "@jupyter-widgets/base",
            "_model_module_version": "1.2.0",
            "_model_name": "LayoutModel",
            "_view_count": null,
            "_view_module": "@jupyter-widgets/base",
            "_view_module_version": "1.2.0",
            "_view_name": "LayoutView",
            "align_content": null,
            "align_items": null,
            "align_self": null,
            "border": null,
            "bottom": null,
            "display": null,
            "flex": null,
            "flex_flow": null,
            "grid_area": null,
            "grid_auto_columns": null,
            "grid_auto_flow": null,
            "grid_auto_rows": null,
            "grid_column": null,
            "grid_gap": null,
            "grid_row": null,
            "grid_template_areas": null,
            "grid_template_columns": null,
            "grid_template_rows": null,
            "height": null,
            "justify_content": null,
            "justify_items": null,
            "left": null,
            "margin": null,
            "max_height": null,
            "max_width": null,
            "min_height": null,
            "min_width": null,
            "object_fit": null,
            "object_position": null,
            "order": null,
            "overflow": null,
            "overflow_x": null,
            "overflow_y": null,
            "padding": null,
            "right": null,
            "top": null,
            "visibility": null,
            "width": null
          }
        },
        "4c8a67947552415d840ca2151417717f": {
          "model_module": "@jupyter-widgets/base",
          "model_name": "LayoutModel",
          "model_module_version": "1.2.0",
          "state": {
            "_model_module": "@jupyter-widgets/base",
            "_model_module_version": "1.2.0",
            "_model_name": "LayoutModel",
            "_view_count": null,
            "_view_module": "@jupyter-widgets/base",
            "_view_module_version": "1.2.0",
            "_view_name": "LayoutView",
            "align_content": null,
            "align_items": null,
            "align_self": null,
            "border": null,
            "bottom": null,
            "display": null,
            "flex": null,
            "flex_flow": null,
            "grid_area": null,
            "grid_auto_columns": null,
            "grid_auto_flow": null,
            "grid_auto_rows": null,
            "grid_column": null,
            "grid_gap": null,
            "grid_row": null,
            "grid_template_areas": null,
            "grid_template_columns": null,
            "grid_template_rows": null,
            "height": null,
            "justify_content": null,
            "justify_items": null,
            "left": null,
            "margin": null,
            "max_height": null,
            "max_width": null,
            "min_height": null,
            "min_width": null,
            "object_fit": null,
            "object_position": null,
            "order": null,
            "overflow": null,
            "overflow_x": null,
            "overflow_y": null,
            "padding": null,
            "right": null,
            "top": null,
            "visibility": null,
            "width": null
          }
        },
        "567820eb23fd4facaf32d83665888f6c": {
          "model_module": "@jupyter-widgets/controls",
          "model_name": "DescriptionStyleModel",
          "model_module_version": "1.5.0",
          "state": {
            "_model_module": "@jupyter-widgets/controls",
            "_model_module_version": "1.5.0",
            "_model_name": "DescriptionStyleModel",
            "_view_count": null,
            "_view_module": "@jupyter-widgets/base",
            "_view_module_version": "1.2.0",
            "_view_name": "StyleView",
            "description_width": ""
          }
        },
        "d271c18eff584ae5807744d7fb0f4717": {
          "model_module": "@jupyter-widgets/base",
          "model_name": "LayoutModel",
          "model_module_version": "1.2.0",
          "state": {
            "_model_module": "@jupyter-widgets/base",
            "_model_module_version": "1.2.0",
            "_model_name": "LayoutModel",
            "_view_count": null,
            "_view_module": "@jupyter-widgets/base",
            "_view_module_version": "1.2.0",
            "_view_name": "LayoutView",
            "align_content": null,
            "align_items": null,
            "align_self": null,
            "border": null,
            "bottom": null,
            "display": null,
            "flex": null,
            "flex_flow": null,
            "grid_area": null,
            "grid_auto_columns": null,
            "grid_auto_flow": null,
            "grid_auto_rows": null,
            "grid_column": null,
            "grid_gap": null,
            "grid_row": null,
            "grid_template_areas": null,
            "grid_template_columns": null,
            "grid_template_rows": null,
            "height": null,
            "justify_content": null,
            "justify_items": null,
            "left": null,
            "margin": null,
            "max_height": null,
            "max_width": null,
            "min_height": null,
            "min_width": null,
            "object_fit": null,
            "object_position": null,
            "order": null,
            "overflow": null,
            "overflow_x": null,
            "overflow_y": null,
            "padding": null,
            "right": null,
            "top": null,
            "visibility": null,
            "width": null
          }
        },
        "99decc32eec7424380d12e2e8d3b2629": {
          "model_module": "@jupyter-widgets/controls",
          "model_name": "ProgressStyleModel",
          "model_module_version": "1.5.0",
          "state": {
            "_model_module": "@jupyter-widgets/controls",
            "_model_module_version": "1.5.0",
            "_model_name": "ProgressStyleModel",
            "_view_count": null,
            "_view_module": "@jupyter-widgets/base",
            "_view_module_version": "1.2.0",
            "_view_name": "StyleView",
            "bar_color": null,
            "description_width": ""
          }
        },
        "706b2e8e2abf4e40b6f7b3949fcf197f": {
          "model_module": "@jupyter-widgets/base",
          "model_name": "LayoutModel",
          "model_module_version": "1.2.0",
          "state": {
            "_model_module": "@jupyter-widgets/base",
            "_model_module_version": "1.2.0",
            "_model_name": "LayoutModel",
            "_view_count": null,
            "_view_module": "@jupyter-widgets/base",
            "_view_module_version": "1.2.0",
            "_view_name": "LayoutView",
            "align_content": null,
            "align_items": null,
            "align_self": null,
            "border": null,
            "bottom": null,
            "display": null,
            "flex": null,
            "flex_flow": null,
            "grid_area": null,
            "grid_auto_columns": null,
            "grid_auto_flow": null,
            "grid_auto_rows": null,
            "grid_column": null,
            "grid_gap": null,
            "grid_row": null,
            "grid_template_areas": null,
            "grid_template_columns": null,
            "grid_template_rows": null,
            "height": null,
            "justify_content": null,
            "justify_items": null,
            "left": null,
            "margin": null,
            "max_height": null,
            "max_width": null,
            "min_height": null,
            "min_width": null,
            "object_fit": null,
            "object_position": null,
            "order": null,
            "overflow": null,
            "overflow_x": null,
            "overflow_y": null,
            "padding": null,
            "right": null,
            "top": null,
            "visibility": null,
            "width": null
          }
        },
        "bba207c5dad046d99292ec05be0369fb": {
          "model_module": "@jupyter-widgets/controls",
          "model_name": "DescriptionStyleModel",
          "model_module_version": "1.5.0",
          "state": {
            "_model_module": "@jupyter-widgets/controls",
            "_model_module_version": "1.5.0",
            "_model_name": "DescriptionStyleModel",
            "_view_count": null,
            "_view_module": "@jupyter-widgets/base",
            "_view_module_version": "1.2.0",
            "_view_name": "StyleView",
            "description_width": ""
          }
        },
        "81d77337b0a4484d8f0e9932b214e88d": {
          "model_module": "@jupyter-widgets/controls",
          "model_name": "HBoxModel",
          "model_module_version": "1.5.0",
          "state": {
            "_dom_classes": [],
            "_model_module": "@jupyter-widgets/controls",
            "_model_module_version": "1.5.0",
            "_model_name": "HBoxModel",
            "_view_count": null,
            "_view_module": "@jupyter-widgets/controls",
            "_view_module_version": "1.5.0",
            "_view_name": "HBoxView",
            "box_style": "",
            "children": [
              "IPY_MODEL_d329164604f74c699af41e84b5dc9770",
              "IPY_MODEL_6a689648c01241bba035eced74f25b0b",
              "IPY_MODEL_66fa6e8684c24d9db629dd1f86442cc0"
            ],
            "layout": "IPY_MODEL_63e9105169d34ab2a8d0d3549b9c3f8e"
          }
        },
        "d329164604f74c699af41e84b5dc9770": {
          "model_module": "@jupyter-widgets/controls",
          "model_name": "HTMLModel",
          "model_module_version": "1.5.0",
          "state": {
            "_dom_classes": [],
            "_model_module": "@jupyter-widgets/controls",
            "_model_module_version": "1.5.0",
            "_model_name": "HTMLModel",
            "_view_count": null,
            "_view_module": "@jupyter-widgets/controls",
            "_view_module_version": "1.5.0",
            "_view_name": "HTMLView",
            "description": "",
            "description_tooltip": null,
            "layout": "IPY_MODEL_66f21e1856ec46c0a92becbfe0686ee2",
            "placeholder": "​",
            "style": "IPY_MODEL_bc9a54cb81a04d66a443624a7d79ddda",
            "value": "100%"
          }
        },
        "6a689648c01241bba035eced74f25b0b": {
          "model_module": "@jupyter-widgets/controls",
          "model_name": "FloatProgressModel",
          "model_module_version": "1.5.0",
          "state": {
            "_dom_classes": [],
            "_model_module": "@jupyter-widgets/controls",
            "_model_module_version": "1.5.0",
            "_model_name": "FloatProgressModel",
            "_view_count": null,
            "_view_module": "@jupyter-widgets/controls",
            "_view_module_version": "1.5.0",
            "_view_name": "ProgressView",
            "bar_style": "success",
            "description": "",
            "description_tooltip": null,
            "layout": "IPY_MODEL_43ab9223a60441b4aab87512a125dff8",
            "max": 1214,
            "min": 0,
            "orientation": "horizontal",
            "style": "IPY_MODEL_d2aec6135ced4ba380de5f75099333ed",
            "value": 1214
          }
        },
        "66fa6e8684c24d9db629dd1f86442cc0": {
          "model_module": "@jupyter-widgets/controls",
          "model_name": "HTMLModel",
          "model_module_version": "1.5.0",
          "state": {
            "_dom_classes": [],
            "_model_module": "@jupyter-widgets/controls",
            "_model_module_version": "1.5.0",
            "_model_name": "HTMLModel",
            "_view_count": null,
            "_view_module": "@jupyter-widgets/controls",
            "_view_module_version": "1.5.0",
            "_view_name": "HTMLView",
            "description": "",
            "description_tooltip": null,
            "layout": "IPY_MODEL_47af776082ca49449b8736816590745f",
            "placeholder": "​",
            "style": "IPY_MODEL_a482a7df8283486fa11f5b01dc08652b",
            "value": " 1214/1214 [10:51&lt;00:00,  2.28it/s]"
          }
        },
        "63e9105169d34ab2a8d0d3549b9c3f8e": {
          "model_module": "@jupyter-widgets/base",
          "model_name": "LayoutModel",
          "model_module_version": "1.2.0",
          "state": {
            "_model_module": "@jupyter-widgets/base",
            "_model_module_version": "1.2.0",
            "_model_name": "LayoutModel",
            "_view_count": null,
            "_view_module": "@jupyter-widgets/base",
            "_view_module_version": "1.2.0",
            "_view_name": "LayoutView",
            "align_content": null,
            "align_items": null,
            "align_self": null,
            "border": null,
            "bottom": null,
            "display": null,
            "flex": null,
            "flex_flow": null,
            "grid_area": null,
            "grid_auto_columns": null,
            "grid_auto_flow": null,
            "grid_auto_rows": null,
            "grid_column": null,
            "grid_gap": null,
            "grid_row": null,
            "grid_template_areas": null,
            "grid_template_columns": null,
            "grid_template_rows": null,
            "height": null,
            "justify_content": null,
            "justify_items": null,
            "left": null,
            "margin": null,
            "max_height": null,
            "max_width": null,
            "min_height": null,
            "min_width": null,
            "object_fit": null,
            "object_position": null,
            "order": null,
            "overflow": null,
            "overflow_x": null,
            "overflow_y": null,
            "padding": null,
            "right": null,
            "top": null,
            "visibility": null,
            "width": null
          }
        },
        "66f21e1856ec46c0a92becbfe0686ee2": {
          "model_module": "@jupyter-widgets/base",
          "model_name": "LayoutModel",
          "model_module_version": "1.2.0",
          "state": {
            "_model_module": "@jupyter-widgets/base",
            "_model_module_version": "1.2.0",
            "_model_name": "LayoutModel",
            "_view_count": null,
            "_view_module": "@jupyter-widgets/base",
            "_view_module_version": "1.2.0",
            "_view_name": "LayoutView",
            "align_content": null,
            "align_items": null,
            "align_self": null,
            "border": null,
            "bottom": null,
            "display": null,
            "flex": null,
            "flex_flow": null,
            "grid_area": null,
            "grid_auto_columns": null,
            "grid_auto_flow": null,
            "grid_auto_rows": null,
            "grid_column": null,
            "grid_gap": null,
            "grid_row": null,
            "grid_template_areas": null,
            "grid_template_columns": null,
            "grid_template_rows": null,
            "height": null,
            "justify_content": null,
            "justify_items": null,
            "left": null,
            "margin": null,
            "max_height": null,
            "max_width": null,
            "min_height": null,
            "min_width": null,
            "object_fit": null,
            "object_position": null,
            "order": null,
            "overflow": null,
            "overflow_x": null,
            "overflow_y": null,
            "padding": null,
            "right": null,
            "top": null,
            "visibility": null,
            "width": null
          }
        },
        "bc9a54cb81a04d66a443624a7d79ddda": {
          "model_module": "@jupyter-widgets/controls",
          "model_name": "DescriptionStyleModel",
          "model_module_version": "1.5.0",
          "state": {
            "_model_module": "@jupyter-widgets/controls",
            "_model_module_version": "1.5.0",
            "_model_name": "DescriptionStyleModel",
            "_view_count": null,
            "_view_module": "@jupyter-widgets/base",
            "_view_module_version": "1.2.0",
            "_view_name": "StyleView",
            "description_width": ""
          }
        },
        "43ab9223a60441b4aab87512a125dff8": {
          "model_module": "@jupyter-widgets/base",
          "model_name": "LayoutModel",
          "model_module_version": "1.2.0",
          "state": {
            "_model_module": "@jupyter-widgets/base",
            "_model_module_version": "1.2.0",
            "_model_name": "LayoutModel",
            "_view_count": null,
            "_view_module": "@jupyter-widgets/base",
            "_view_module_version": "1.2.0",
            "_view_name": "LayoutView",
            "align_content": null,
            "align_items": null,
            "align_self": null,
            "border": null,
            "bottom": null,
            "display": null,
            "flex": null,
            "flex_flow": null,
            "grid_area": null,
            "grid_auto_columns": null,
            "grid_auto_flow": null,
            "grid_auto_rows": null,
            "grid_column": null,
            "grid_gap": null,
            "grid_row": null,
            "grid_template_areas": null,
            "grid_template_columns": null,
            "grid_template_rows": null,
            "height": null,
            "justify_content": null,
            "justify_items": null,
            "left": null,
            "margin": null,
            "max_height": null,
            "max_width": null,
            "min_height": null,
            "min_width": null,
            "object_fit": null,
            "object_position": null,
            "order": null,
            "overflow": null,
            "overflow_x": null,
            "overflow_y": null,
            "padding": null,
            "right": null,
            "top": null,
            "visibility": null,
            "width": null
          }
        },
        "d2aec6135ced4ba380de5f75099333ed": {
          "model_module": "@jupyter-widgets/controls",
          "model_name": "ProgressStyleModel",
          "model_module_version": "1.5.0",
          "state": {
            "_model_module": "@jupyter-widgets/controls",
            "_model_module_version": "1.5.0",
            "_model_name": "ProgressStyleModel",
            "_view_count": null,
            "_view_module": "@jupyter-widgets/base",
            "_view_module_version": "1.2.0",
            "_view_name": "StyleView",
            "bar_color": null,
            "description_width": ""
          }
        },
        "47af776082ca49449b8736816590745f": {
          "model_module": "@jupyter-widgets/base",
          "model_name": "LayoutModel",
          "model_module_version": "1.2.0",
          "state": {
            "_model_module": "@jupyter-widgets/base",
            "_model_module_version": "1.2.0",
            "_model_name": "LayoutModel",
            "_view_count": null,
            "_view_module": "@jupyter-widgets/base",
            "_view_module_version": "1.2.0",
            "_view_name": "LayoutView",
            "align_content": null,
            "align_items": null,
            "align_self": null,
            "border": null,
            "bottom": null,
            "display": null,
            "flex": null,
            "flex_flow": null,
            "grid_area": null,
            "grid_auto_columns": null,
            "grid_auto_flow": null,
            "grid_auto_rows": null,
            "grid_column": null,
            "grid_gap": null,
            "grid_row": null,
            "grid_template_areas": null,
            "grid_template_columns": null,
            "grid_template_rows": null,
            "height": null,
            "justify_content": null,
            "justify_items": null,
            "left": null,
            "margin": null,
            "max_height": null,
            "max_width": null,
            "min_height": null,
            "min_width": null,
            "object_fit": null,
            "object_position": null,
            "order": null,
            "overflow": null,
            "overflow_x": null,
            "overflow_y": null,
            "padding": null,
            "right": null,
            "top": null,
            "visibility": null,
            "width": null
          }
        },
        "a482a7df8283486fa11f5b01dc08652b": {
          "model_module": "@jupyter-widgets/controls",
          "model_name": "DescriptionStyleModel",
          "model_module_version": "1.5.0",
          "state": {
            "_model_module": "@jupyter-widgets/controls",
            "_model_module_version": "1.5.0",
            "_model_name": "DescriptionStyleModel",
            "_view_count": null,
            "_view_module": "@jupyter-widgets/base",
            "_view_module_version": "1.2.0",
            "_view_name": "StyleView",
            "description_width": ""
          }
        },
        "b9ac8900db32436ab8c3628e3ea76f75": {
          "model_module": "@jupyter-widgets/controls",
          "model_name": "HBoxModel",
          "model_module_version": "1.5.0",
          "state": {
            "_dom_classes": [],
            "_model_module": "@jupyter-widgets/controls",
            "_model_module_version": "1.5.0",
            "_model_name": "HBoxModel",
            "_view_count": null,
            "_view_module": "@jupyter-widgets/controls",
            "_view_module_version": "1.5.0",
            "_view_name": "HBoxView",
            "box_style": "",
            "children": [
              "IPY_MODEL_56562c339f5a493aa8a194e4d6694533",
              "IPY_MODEL_891c8f79590242079bcbcda1adeb925a",
              "IPY_MODEL_24fb917dacb74a2babefeb272d88b111"
            ],
            "layout": "IPY_MODEL_34db84bdefae448ea11bd69eaa4a3f78"
          }
        },
        "56562c339f5a493aa8a194e4d6694533": {
          "model_module": "@jupyter-widgets/controls",
          "model_name": "HTMLModel",
          "model_module_version": "1.5.0",
          "state": {
            "_dom_classes": [],
            "_model_module": "@jupyter-widgets/controls",
            "_model_module_version": "1.5.0",
            "_model_name": "HTMLModel",
            "_view_count": null,
            "_view_module": "@jupyter-widgets/controls",
            "_view_module_version": "1.5.0",
            "_view_name": "HTMLView",
            "description": "",
            "description_tooltip": null,
            "layout": "IPY_MODEL_337b75641a074ccc867fbba88eb26790",
            "placeholder": "​",
            "style": "IPY_MODEL_d33282ec00464a81add35412faaca3fa",
            "value": "100%"
          }
        },
        "891c8f79590242079bcbcda1adeb925a": {
          "model_module": "@jupyter-widgets/controls",
          "model_name": "FloatProgressModel",
          "model_module_version": "1.5.0",
          "state": {
            "_dom_classes": [],
            "_model_module": "@jupyter-widgets/controls",
            "_model_module_version": "1.5.0",
            "_model_name": "FloatProgressModel",
            "_view_count": null,
            "_view_module": "@jupyter-widgets/controls",
            "_view_module_version": "1.5.0",
            "_view_name": "ProgressView",
            "bar_style": "success",
            "description": "",
            "description_tooltip": null,
            "layout": "IPY_MODEL_0665f6dd313a4322978b2710b39c86af",
            "max": 1214,
            "min": 0,
            "orientation": "horizontal",
            "style": "IPY_MODEL_19ce2b37720f4a78836cfcfb746f8a4b",
            "value": 1214
          }
        },
        "24fb917dacb74a2babefeb272d88b111": {
          "model_module": "@jupyter-widgets/controls",
          "model_name": "HTMLModel",
          "model_module_version": "1.5.0",
          "state": {
            "_dom_classes": [],
            "_model_module": "@jupyter-widgets/controls",
            "_model_module_version": "1.5.0",
            "_model_name": "HTMLModel",
            "_view_count": null,
            "_view_module": "@jupyter-widgets/controls",
            "_view_module_version": "1.5.0",
            "_view_name": "HTMLView",
            "description": "",
            "description_tooltip": null,
            "layout": "IPY_MODEL_a2dafa7be4a3418d86723b82c47dcb76",
            "placeholder": "​",
            "style": "IPY_MODEL_8fe3b74f05ac494089814e7665a8c34a",
            "value": " 1214/1214 [09:01&lt;00:00,  2.44it/s]"
          }
        },
        "34db84bdefae448ea11bd69eaa4a3f78": {
          "model_module": "@jupyter-widgets/base",
          "model_name": "LayoutModel",
          "model_module_version": "1.2.0",
          "state": {
            "_model_module": "@jupyter-widgets/base",
            "_model_module_version": "1.2.0",
            "_model_name": "LayoutModel",
            "_view_count": null,
            "_view_module": "@jupyter-widgets/base",
            "_view_module_version": "1.2.0",
            "_view_name": "LayoutView",
            "align_content": null,
            "align_items": null,
            "align_self": null,
            "border": null,
            "bottom": null,
            "display": null,
            "flex": null,
            "flex_flow": null,
            "grid_area": null,
            "grid_auto_columns": null,
            "grid_auto_flow": null,
            "grid_auto_rows": null,
            "grid_column": null,
            "grid_gap": null,
            "grid_row": null,
            "grid_template_areas": null,
            "grid_template_columns": null,
            "grid_template_rows": null,
            "height": null,
            "justify_content": null,
            "justify_items": null,
            "left": null,
            "margin": null,
            "max_height": null,
            "max_width": null,
            "min_height": null,
            "min_width": null,
            "object_fit": null,
            "object_position": null,
            "order": null,
            "overflow": null,
            "overflow_x": null,
            "overflow_y": null,
            "padding": null,
            "right": null,
            "top": null,
            "visibility": null,
            "width": null
          }
        },
        "337b75641a074ccc867fbba88eb26790": {
          "model_module": "@jupyter-widgets/base",
          "model_name": "LayoutModel",
          "model_module_version": "1.2.0",
          "state": {
            "_model_module": "@jupyter-widgets/base",
            "_model_module_version": "1.2.0",
            "_model_name": "LayoutModel",
            "_view_count": null,
            "_view_module": "@jupyter-widgets/base",
            "_view_module_version": "1.2.0",
            "_view_name": "LayoutView",
            "align_content": null,
            "align_items": null,
            "align_self": null,
            "border": null,
            "bottom": null,
            "display": null,
            "flex": null,
            "flex_flow": null,
            "grid_area": null,
            "grid_auto_columns": null,
            "grid_auto_flow": null,
            "grid_auto_rows": null,
            "grid_column": null,
            "grid_gap": null,
            "grid_row": null,
            "grid_template_areas": null,
            "grid_template_columns": null,
            "grid_template_rows": null,
            "height": null,
            "justify_content": null,
            "justify_items": null,
            "left": null,
            "margin": null,
            "max_height": null,
            "max_width": null,
            "min_height": null,
            "min_width": null,
            "object_fit": null,
            "object_position": null,
            "order": null,
            "overflow": null,
            "overflow_x": null,
            "overflow_y": null,
            "padding": null,
            "right": null,
            "top": null,
            "visibility": null,
            "width": null
          }
        },
        "d33282ec00464a81add35412faaca3fa": {
          "model_module": "@jupyter-widgets/controls",
          "model_name": "DescriptionStyleModel",
          "model_module_version": "1.5.0",
          "state": {
            "_model_module": "@jupyter-widgets/controls",
            "_model_module_version": "1.5.0",
            "_model_name": "DescriptionStyleModel",
            "_view_count": null,
            "_view_module": "@jupyter-widgets/base",
            "_view_module_version": "1.2.0",
            "_view_name": "StyleView",
            "description_width": ""
          }
        },
        "0665f6dd313a4322978b2710b39c86af": {
          "model_module": "@jupyter-widgets/base",
          "model_name": "LayoutModel",
          "model_module_version": "1.2.0",
          "state": {
            "_model_module": "@jupyter-widgets/base",
            "_model_module_version": "1.2.0",
            "_model_name": "LayoutModel",
            "_view_count": null,
            "_view_module": "@jupyter-widgets/base",
            "_view_module_version": "1.2.0",
            "_view_name": "LayoutView",
            "align_content": null,
            "align_items": null,
            "align_self": null,
            "border": null,
            "bottom": null,
            "display": null,
            "flex": null,
            "flex_flow": null,
            "grid_area": null,
            "grid_auto_columns": null,
            "grid_auto_flow": null,
            "grid_auto_rows": null,
            "grid_column": null,
            "grid_gap": null,
            "grid_row": null,
            "grid_template_areas": null,
            "grid_template_columns": null,
            "grid_template_rows": null,
            "height": null,
            "justify_content": null,
            "justify_items": null,
            "left": null,
            "margin": null,
            "max_height": null,
            "max_width": null,
            "min_height": null,
            "min_width": null,
            "object_fit": null,
            "object_position": null,
            "order": null,
            "overflow": null,
            "overflow_x": null,
            "overflow_y": null,
            "padding": null,
            "right": null,
            "top": null,
            "visibility": null,
            "width": null
          }
        },
        "19ce2b37720f4a78836cfcfb746f8a4b": {
          "model_module": "@jupyter-widgets/controls",
          "model_name": "ProgressStyleModel",
          "model_module_version": "1.5.0",
          "state": {
            "_model_module": "@jupyter-widgets/controls",
            "_model_module_version": "1.5.0",
            "_model_name": "ProgressStyleModel",
            "_view_count": null,
            "_view_module": "@jupyter-widgets/base",
            "_view_module_version": "1.2.0",
            "_view_name": "StyleView",
            "bar_color": null,
            "description_width": ""
          }
        },
        "a2dafa7be4a3418d86723b82c47dcb76": {
          "model_module": "@jupyter-widgets/base",
          "model_name": "LayoutModel",
          "model_module_version": "1.2.0",
          "state": {
            "_model_module": "@jupyter-widgets/base",
            "_model_module_version": "1.2.0",
            "_model_name": "LayoutModel",
            "_view_count": null,
            "_view_module": "@jupyter-widgets/base",
            "_view_module_version": "1.2.0",
            "_view_name": "LayoutView",
            "align_content": null,
            "align_items": null,
            "align_self": null,
            "border": null,
            "bottom": null,
            "display": null,
            "flex": null,
            "flex_flow": null,
            "grid_area": null,
            "grid_auto_columns": null,
            "grid_auto_flow": null,
            "grid_auto_rows": null,
            "grid_column": null,
            "grid_gap": null,
            "grid_row": null,
            "grid_template_areas": null,
            "grid_template_columns": null,
            "grid_template_rows": null,
            "height": null,
            "justify_content": null,
            "justify_items": null,
            "left": null,
            "margin": null,
            "max_height": null,
            "max_width": null,
            "min_height": null,
            "min_width": null,
            "object_fit": null,
            "object_position": null,
            "order": null,
            "overflow": null,
            "overflow_x": null,
            "overflow_y": null,
            "padding": null,
            "right": null,
            "top": null,
            "visibility": null,
            "width": null
          }
        },
        "8fe3b74f05ac494089814e7665a8c34a": {
          "model_module": "@jupyter-widgets/controls",
          "model_name": "DescriptionStyleModel",
          "model_module_version": "1.5.0",
          "state": {
            "_model_module": "@jupyter-widgets/controls",
            "_model_module_version": "1.5.0",
            "_model_name": "DescriptionStyleModel",
            "_view_count": null,
            "_view_module": "@jupyter-widgets/base",
            "_view_module_version": "1.2.0",
            "_view_name": "StyleView",
            "description_width": ""
          }
        },
        "4782ab2e4ee04b2391e86bf8493e1cc2": {
          "model_module": "@jupyter-widgets/controls",
          "model_name": "HBoxModel",
          "model_module_version": "2.0.0",
          "state": {
            "_dom_classes": [],
            "_model_module": "@jupyter-widgets/controls",
            "_model_module_version": "2.0.0",
            "_model_name": "HBoxModel",
            "_view_count": null,
            "_view_module": "@jupyter-widgets/controls",
            "_view_module_version": "2.0.0",
            "_view_name": "HBoxView",
            "box_style": "",
            "children": [
              "IPY_MODEL_3aa6f926a6b0444087ffc9cf63f8f829",
              "IPY_MODEL_92ceb5c89db2412e96b8838b6c6a5d2e",
              "IPY_MODEL_5e1d476207354a6db514ecca5e4c1fe0"
            ],
            "layout": "IPY_MODEL_1b49791567244645afdf019aff317640",
            "tabbable": null,
            "tooltip": null
          }
        },
        "3aa6f926a6b0444087ffc9cf63f8f829": {
          "model_module": "@jupyter-widgets/controls",
          "model_name": "HTMLModel",
          "model_module_version": "2.0.0",
          "state": {
            "_dom_classes": [],
            "_model_module": "@jupyter-widgets/controls",
            "_model_module_version": "2.0.0",
            "_model_name": "HTMLModel",
            "_view_count": null,
            "_view_module": "@jupyter-widgets/controls",
            "_view_module_version": "2.0.0",
            "_view_name": "HTMLView",
            "description": "",
            "description_allow_html": false,
            "layout": "IPY_MODEL_1fab80628b574383946762a167bc5a98",
            "placeholder": "​",
            "style": "IPY_MODEL_30af665aaefa473996394e699269f5dc",
            "tabbable": null,
            "tooltip": null,
            "value": "100%"
          }
        },
        "92ceb5c89db2412e96b8838b6c6a5d2e": {
          "model_module": "@jupyter-widgets/controls",
          "model_name": "FloatProgressModel",
          "model_module_version": "2.0.0",
          "state": {
            "_dom_classes": [],
            "_model_module": "@jupyter-widgets/controls",
            "_model_module_version": "2.0.0",
            "_model_name": "FloatProgressModel",
            "_view_count": null,
            "_view_module": "@jupyter-widgets/controls",
            "_view_module_version": "2.0.0",
            "_view_name": "ProgressView",
            "bar_style": "success",
            "description": "",
            "description_allow_html": false,
            "layout": "IPY_MODEL_005b92518e2b48279f7ae44f8b1acdaa",
            "max": 40456,
            "min": 0,
            "orientation": "horizontal",
            "style": "IPY_MODEL_58f5f50a20de4a888dde6454ecd9c8d1",
            "tabbable": null,
            "tooltip": null,
            "value": 40456
          }
        },
        "5e1d476207354a6db514ecca5e4c1fe0": {
          "model_module": "@jupyter-widgets/controls",
          "model_name": "HTMLModel",
          "model_module_version": "2.0.0",
          "state": {
            "_dom_classes": [],
            "_model_module": "@jupyter-widgets/controls",
            "_model_module_version": "2.0.0",
            "_model_name": "HTMLModel",
            "_view_count": null,
            "_view_module": "@jupyter-widgets/controls",
            "_view_module_version": "2.0.0",
            "_view_name": "HTMLView",
            "description": "",
            "description_allow_html": false,
            "layout": "IPY_MODEL_c978a50490c644458cebc72dcdd58417",
            "placeholder": "​",
            "style": "IPY_MODEL_77e7a98ad6824cabbb331e821a58cd25",
            "tabbable": null,
            "tooltip": null,
            "value": " 40456/40456 [00:00&lt;00:00, 286622.69it/s]"
          }
        },
        "1b49791567244645afdf019aff317640": {
          "model_module": "@jupyter-widgets/base",
          "model_name": "LayoutModel",
          "model_module_version": "2.0.0",
          "state": {
            "_model_module": "@jupyter-widgets/base",
            "_model_module_version": "2.0.0",
            "_model_name": "LayoutModel",
            "_view_count": null,
            "_view_module": "@jupyter-widgets/base",
            "_view_module_version": "2.0.0",
            "_view_name": "LayoutView",
            "align_content": null,
            "align_items": null,
            "align_self": null,
            "border_bottom": null,
            "border_left": null,
            "border_right": null,
            "border_top": null,
            "bottom": null,
            "display": null,
            "flex": null,
            "flex_flow": null,
            "grid_area": null,
            "grid_auto_columns": null,
            "grid_auto_flow": null,
            "grid_auto_rows": null,
            "grid_column": null,
            "grid_gap": null,
            "grid_row": null,
            "grid_template_areas": null,
            "grid_template_columns": null,
            "grid_template_rows": null,
            "height": null,
            "justify_content": null,
            "justify_items": null,
            "left": null,
            "margin": null,
            "max_height": null,
            "max_width": null,
            "min_height": null,
            "min_width": null,
            "object_fit": null,
            "object_position": null,
            "order": null,
            "overflow": null,
            "padding": null,
            "right": null,
            "top": null,
            "visibility": null,
            "width": null
          }
        },
        "1fab80628b574383946762a167bc5a98": {
          "model_module": "@jupyter-widgets/base",
          "model_name": "LayoutModel",
          "model_module_version": "2.0.0",
          "state": {
            "_model_module": "@jupyter-widgets/base",
            "_model_module_version": "2.0.0",
            "_model_name": "LayoutModel",
            "_view_count": null,
            "_view_module": "@jupyter-widgets/base",
            "_view_module_version": "2.0.0",
            "_view_name": "LayoutView",
            "align_content": null,
            "align_items": null,
            "align_self": null,
            "border_bottom": null,
            "border_left": null,
            "border_right": null,
            "border_top": null,
            "bottom": null,
            "display": null,
            "flex": null,
            "flex_flow": null,
            "grid_area": null,
            "grid_auto_columns": null,
            "grid_auto_flow": null,
            "grid_auto_rows": null,
            "grid_column": null,
            "grid_gap": null,
            "grid_row": null,
            "grid_template_areas": null,
            "grid_template_columns": null,
            "grid_template_rows": null,
            "height": null,
            "justify_content": null,
            "justify_items": null,
            "left": null,
            "margin": null,
            "max_height": null,
            "max_width": null,
            "min_height": null,
            "min_width": null,
            "object_fit": null,
            "object_position": null,
            "order": null,
            "overflow": null,
            "padding": null,
            "right": null,
            "top": null,
            "visibility": null,
            "width": null
          }
        },
        "30af665aaefa473996394e699269f5dc": {
          "model_module": "@jupyter-widgets/controls",
          "model_name": "HTMLStyleModel",
          "model_module_version": "2.0.0",
          "state": {
            "_model_module": "@jupyter-widgets/controls",
            "_model_module_version": "2.0.0",
            "_model_name": "HTMLStyleModel",
            "_view_count": null,
            "_view_module": "@jupyter-widgets/base",
            "_view_module_version": "2.0.0",
            "_view_name": "StyleView",
            "background": null,
            "description_width": "",
            "font_size": null,
            "text_color": null
          }
        },
        "005b92518e2b48279f7ae44f8b1acdaa": {
          "model_module": "@jupyter-widgets/base",
          "model_name": "LayoutModel",
          "model_module_version": "2.0.0",
          "state": {
            "_model_module": "@jupyter-widgets/base",
            "_model_module_version": "2.0.0",
            "_model_name": "LayoutModel",
            "_view_count": null,
            "_view_module": "@jupyter-widgets/base",
            "_view_module_version": "2.0.0",
            "_view_name": "LayoutView",
            "align_content": null,
            "align_items": null,
            "align_self": null,
            "border_bottom": null,
            "border_left": null,
            "border_right": null,
            "border_top": null,
            "bottom": null,
            "display": null,
            "flex": null,
            "flex_flow": null,
            "grid_area": null,
            "grid_auto_columns": null,
            "grid_auto_flow": null,
            "grid_auto_rows": null,
            "grid_column": null,
            "grid_gap": null,
            "grid_row": null,
            "grid_template_areas": null,
            "grid_template_columns": null,
            "grid_template_rows": null,
            "height": null,
            "justify_content": null,
            "justify_items": null,
            "left": null,
            "margin": null,
            "max_height": null,
            "max_width": null,
            "min_height": null,
            "min_width": null,
            "object_fit": null,
            "object_position": null,
            "order": null,
            "overflow": null,
            "padding": null,
            "right": null,
            "top": null,
            "visibility": null,
            "width": null
          }
        },
        "58f5f50a20de4a888dde6454ecd9c8d1": {
          "model_module": "@jupyter-widgets/controls",
          "model_name": "ProgressStyleModel",
          "model_module_version": "2.0.0",
          "state": {
            "_model_module": "@jupyter-widgets/controls",
            "_model_module_version": "2.0.0",
            "_model_name": "ProgressStyleModel",
            "_view_count": null,
            "_view_module": "@jupyter-widgets/base",
            "_view_module_version": "2.0.0",
            "_view_name": "StyleView",
            "bar_color": null,
            "description_width": ""
          }
        },
        "c978a50490c644458cebc72dcdd58417": {
          "model_module": "@jupyter-widgets/base",
          "model_name": "LayoutModel",
          "model_module_version": "2.0.0",
          "state": {
            "_model_module": "@jupyter-widgets/base",
            "_model_module_version": "2.0.0",
            "_model_name": "LayoutModel",
            "_view_count": null,
            "_view_module": "@jupyter-widgets/base",
            "_view_module_version": "2.0.0",
            "_view_name": "LayoutView",
            "align_content": null,
            "align_items": null,
            "align_self": null,
            "border_bottom": null,
            "border_left": null,
            "border_right": null,
            "border_top": null,
            "bottom": null,
            "display": null,
            "flex": null,
            "flex_flow": null,
            "grid_area": null,
            "grid_auto_columns": null,
            "grid_auto_flow": null,
            "grid_auto_rows": null,
            "grid_column": null,
            "grid_gap": null,
            "grid_row": null,
            "grid_template_areas": null,
            "grid_template_columns": null,
            "grid_template_rows": null,
            "height": null,
            "justify_content": null,
            "justify_items": null,
            "left": null,
            "margin": null,
            "max_height": null,
            "max_width": null,
            "min_height": null,
            "min_width": null,
            "object_fit": null,
            "object_position": null,
            "order": null,
            "overflow": null,
            "padding": null,
            "right": null,
            "top": null,
            "visibility": null,
            "width": null
          }
        },
        "77e7a98ad6824cabbb331e821a58cd25": {
          "model_module": "@jupyter-widgets/controls",
          "model_name": "HTMLStyleModel",
          "model_module_version": "2.0.0",
          "state": {
            "_model_module": "@jupyter-widgets/controls",
            "_model_module_version": "2.0.0",
            "_model_name": "HTMLStyleModel",
            "_view_count": null,
            "_view_module": "@jupyter-widgets/base",
            "_view_module_version": "2.0.0",
            "_view_name": "StyleView",
            "background": null,
            "description_width": "",
            "font_size": null,
            "text_color": null
          }
        },
        "298bcc6db15d4b34be6a161f30b4c608": {
          "model_module": "@jupyter-widgets/controls",
          "model_name": "HBoxModel",
          "model_module_version": "2.0.0",
          "state": {
            "_dom_classes": [],
            "_model_module": "@jupyter-widgets/controls",
            "_model_module_version": "2.0.0",
            "_model_name": "HBoxModel",
            "_view_count": null,
            "_view_module": "@jupyter-widgets/controls",
            "_view_module_version": "2.0.0",
            "_view_name": "HBoxView",
            "box_style": "",
            "children": [
              "IPY_MODEL_aab932a349b7469790a3d932ddf745ab",
              "IPY_MODEL_8111d0061b4e4bb792a75bf090d168d9",
              "IPY_MODEL_073d469cf6004df7b32f7c293c11d12d"
            ],
            "layout": "IPY_MODEL_85090714e9c34a6ba17c34454ecdba92",
            "tabbable": null,
            "tooltip": null
          }
        },
        "aab932a349b7469790a3d932ddf745ab": {
          "model_module": "@jupyter-widgets/controls",
          "model_name": "HTMLModel",
          "model_module_version": "2.0.0",
          "state": {
            "_dom_classes": [],
            "_model_module": "@jupyter-widgets/controls",
            "_model_module_version": "2.0.0",
            "_model_name": "HTMLModel",
            "_view_count": null,
            "_view_module": "@jupyter-widgets/controls",
            "_view_module_version": "2.0.0",
            "_view_name": "HTMLView",
            "description": "",
            "description_allow_html": false,
            "layout": "IPY_MODEL_fdb3ef1adfec41b59f7af6c2779e7db9",
            "placeholder": "​",
            "style": "IPY_MODEL_43dde403e7c642d09f516381ab555021",
            "tabbable": null,
            "tooltip": null,
            "value": "100%"
          }
        },
        "8111d0061b4e4bb792a75bf090d168d9": {
          "model_module": "@jupyter-widgets/controls",
          "model_name": "FloatProgressModel",
          "model_module_version": "2.0.0",
          "state": {
            "_dom_classes": [],
            "_model_module": "@jupyter-widgets/controls",
            "_model_module_version": "2.0.0",
            "_model_name": "FloatProgressModel",
            "_view_count": null,
            "_view_module": "@jupyter-widgets/controls",
            "_view_module_version": "2.0.0",
            "_view_name": "ProgressView",
            "bar_style": "success",
            "description": "",
            "description_allow_html": false,
            "layout": "IPY_MODEL_3f71202f20e945da8e17325abe2a3368",
            "max": 1214,
            "min": 0,
            "orientation": "horizontal",
            "style": "IPY_MODEL_bbc07b1fff9d4d70b5f5d3c1efad9892",
            "tabbable": null,
            "tooltip": null,
            "value": 1214
          }
        },
        "073d469cf6004df7b32f7c293c11d12d": {
          "model_module": "@jupyter-widgets/controls",
          "model_name": "HTMLModel",
          "model_module_version": "2.0.0",
          "state": {
            "_dom_classes": [],
            "_model_module": "@jupyter-widgets/controls",
            "_model_module_version": "2.0.0",
            "_model_name": "HTMLModel",
            "_view_count": null,
            "_view_module": "@jupyter-widgets/controls",
            "_view_module_version": "2.0.0",
            "_view_name": "HTMLView",
            "description": "",
            "description_allow_html": false,
            "layout": "IPY_MODEL_84c0f7e815fc4e36b1101a4a61d5d02b",
            "placeholder": "​",
            "style": "IPY_MODEL_ab593da7241b42e0994e4faf7b6a62c5",
            "tabbable": null,
            "tooltip": null,
            "value": " 1214/1214 [09:02&lt;00:00,  2.72it/s]"
          }
        },
        "85090714e9c34a6ba17c34454ecdba92": {
          "model_module": "@jupyter-widgets/base",
          "model_name": "LayoutModel",
          "model_module_version": "2.0.0",
          "state": {
            "_model_module": "@jupyter-widgets/base",
            "_model_module_version": "2.0.0",
            "_model_name": "LayoutModel",
            "_view_count": null,
            "_view_module": "@jupyter-widgets/base",
            "_view_module_version": "2.0.0",
            "_view_name": "LayoutView",
            "align_content": null,
            "align_items": null,
            "align_self": null,
            "border_bottom": null,
            "border_left": null,
            "border_right": null,
            "border_top": null,
            "bottom": null,
            "display": null,
            "flex": null,
            "flex_flow": null,
            "grid_area": null,
            "grid_auto_columns": null,
            "grid_auto_flow": null,
            "grid_auto_rows": null,
            "grid_column": null,
            "grid_gap": null,
            "grid_row": null,
            "grid_template_areas": null,
            "grid_template_columns": null,
            "grid_template_rows": null,
            "height": null,
            "justify_content": null,
            "justify_items": null,
            "left": null,
            "margin": null,
            "max_height": null,
            "max_width": null,
            "min_height": null,
            "min_width": null,
            "object_fit": null,
            "object_position": null,
            "order": null,
            "overflow": null,
            "padding": null,
            "right": null,
            "top": null,
            "visibility": null,
            "width": null
          }
        },
        "fdb3ef1adfec41b59f7af6c2779e7db9": {
          "model_module": "@jupyter-widgets/base",
          "model_name": "LayoutModel",
          "model_module_version": "2.0.0",
          "state": {
            "_model_module": "@jupyter-widgets/base",
            "_model_module_version": "2.0.0",
            "_model_name": "LayoutModel",
            "_view_count": null,
            "_view_module": "@jupyter-widgets/base",
            "_view_module_version": "2.0.0",
            "_view_name": "LayoutView",
            "align_content": null,
            "align_items": null,
            "align_self": null,
            "border_bottom": null,
            "border_left": null,
            "border_right": null,
            "border_top": null,
            "bottom": null,
            "display": null,
            "flex": null,
            "flex_flow": null,
            "grid_area": null,
            "grid_auto_columns": null,
            "grid_auto_flow": null,
            "grid_auto_rows": null,
            "grid_column": null,
            "grid_gap": null,
            "grid_row": null,
            "grid_template_areas": null,
            "grid_template_columns": null,
            "grid_template_rows": null,
            "height": null,
            "justify_content": null,
            "justify_items": null,
            "left": null,
            "margin": null,
            "max_height": null,
            "max_width": null,
            "min_height": null,
            "min_width": null,
            "object_fit": null,
            "object_position": null,
            "order": null,
            "overflow": null,
            "padding": null,
            "right": null,
            "top": null,
            "visibility": null,
            "width": null
          }
        },
        "43dde403e7c642d09f516381ab555021": {
          "model_module": "@jupyter-widgets/controls",
          "model_name": "HTMLStyleModel",
          "model_module_version": "2.0.0",
          "state": {
            "_model_module": "@jupyter-widgets/controls",
            "_model_module_version": "2.0.0",
            "_model_name": "HTMLStyleModel",
            "_view_count": null,
            "_view_module": "@jupyter-widgets/base",
            "_view_module_version": "2.0.0",
            "_view_name": "StyleView",
            "background": null,
            "description_width": "",
            "font_size": null,
            "text_color": null
          }
        },
        "3f71202f20e945da8e17325abe2a3368": {
          "model_module": "@jupyter-widgets/base",
          "model_name": "LayoutModel",
          "model_module_version": "2.0.0",
          "state": {
            "_model_module": "@jupyter-widgets/base",
            "_model_module_version": "2.0.0",
            "_model_name": "LayoutModel",
            "_view_count": null,
            "_view_module": "@jupyter-widgets/base",
            "_view_module_version": "2.0.0",
            "_view_name": "LayoutView",
            "align_content": null,
            "align_items": null,
            "align_self": null,
            "border_bottom": null,
            "border_left": null,
            "border_right": null,
            "border_top": null,
            "bottom": null,
            "display": null,
            "flex": null,
            "flex_flow": null,
            "grid_area": null,
            "grid_auto_columns": null,
            "grid_auto_flow": null,
            "grid_auto_rows": null,
            "grid_column": null,
            "grid_gap": null,
            "grid_row": null,
            "grid_template_areas": null,
            "grid_template_columns": null,
            "grid_template_rows": null,
            "height": null,
            "justify_content": null,
            "justify_items": null,
            "left": null,
            "margin": null,
            "max_height": null,
            "max_width": null,
            "min_height": null,
            "min_width": null,
            "object_fit": null,
            "object_position": null,
            "order": null,
            "overflow": null,
            "padding": null,
            "right": null,
            "top": null,
            "visibility": null,
            "width": null
          }
        },
        "bbc07b1fff9d4d70b5f5d3c1efad9892": {
          "model_module": "@jupyter-widgets/controls",
          "model_name": "ProgressStyleModel",
          "model_module_version": "2.0.0",
          "state": {
            "_model_module": "@jupyter-widgets/controls",
            "_model_module_version": "2.0.0",
            "_model_name": "ProgressStyleModel",
            "_view_count": null,
            "_view_module": "@jupyter-widgets/base",
            "_view_module_version": "2.0.0",
            "_view_name": "StyleView",
            "bar_color": null,
            "description_width": ""
          }
        },
        "84c0f7e815fc4e36b1101a4a61d5d02b": {
          "model_module": "@jupyter-widgets/base",
          "model_name": "LayoutModel",
          "model_module_version": "2.0.0",
          "state": {
            "_model_module": "@jupyter-widgets/base",
            "_model_module_version": "2.0.0",
            "_model_name": "LayoutModel",
            "_view_count": null,
            "_view_module": "@jupyter-widgets/base",
            "_view_module_version": "2.0.0",
            "_view_name": "LayoutView",
            "align_content": null,
            "align_items": null,
            "align_self": null,
            "border_bottom": null,
            "border_left": null,
            "border_right": null,
            "border_top": null,
            "bottom": null,
            "display": null,
            "flex": null,
            "flex_flow": null,
            "grid_area": null,
            "grid_auto_columns": null,
            "grid_auto_flow": null,
            "grid_auto_rows": null,
            "grid_column": null,
            "grid_gap": null,
            "grid_row": null,
            "grid_template_areas": null,
            "grid_template_columns": null,
            "grid_template_rows": null,
            "height": null,
            "justify_content": null,
            "justify_items": null,
            "left": null,
            "margin": null,
            "max_height": null,
            "max_width": null,
            "min_height": null,
            "min_width": null,
            "object_fit": null,
            "object_position": null,
            "order": null,
            "overflow": null,
            "padding": null,
            "right": null,
            "top": null,
            "visibility": null,
            "width": null
          }
        },
        "ab593da7241b42e0994e4faf7b6a62c5": {
          "model_module": "@jupyter-widgets/controls",
          "model_name": "HTMLStyleModel",
          "model_module_version": "2.0.0",
          "state": {
            "_model_module": "@jupyter-widgets/controls",
            "_model_module_version": "2.0.0",
            "_model_name": "HTMLStyleModel",
            "_view_count": null,
            "_view_module": "@jupyter-widgets/base",
            "_view_module_version": "2.0.0",
            "_view_name": "StyleView",
            "background": null,
            "description_width": "",
            "font_size": null,
            "text_color": null
          }
        }
      }
    }
  },
  "cells": [
    {
      "cell_type": "markdown",
      "metadata": {
        "id": "view-in-github",
        "colab_type": "text"
      },
      "source": [
        "<a href=\"https://colab.research.google.com/github/YoussefRizkk/Blindy_ImageCaptionGenerator/blob/main/Image_Caption_Generator_V3.ipynb\" target=\"_parent\"><img src=\"https://colab.research.google.com/assets/colab-badge.svg\" alt=\"Open In Colab\"/></a>"
      ]
    },
    {
      "cell_type": "markdown",
      "source": [
        "\n",
        "# ** Image Caption Generator\n",
        "## We will use CNN for image feature extraction and LSTM for NLP.\n",
        "## We will start by pre-processing steps for both image and text data**"
      ],
      "metadata": {
        "id": "LPOCgaAALdey"
      }
    },
    {
      "cell_type": "markdown",
      "source": [
        "**\n",
        "## Import Modules and Libraries:**"
      ],
      "metadata": {
        "id": "x_e-4mLSLv9J"
      }
    },
    {
      "cell_type": "code",
      "source": [
        "from google.colab import drive \n",
        "drive.mount('/content/drive/',force_remount=True)"
      ],
      "metadata": {
        "id": "yN11S8g5LXpR",
        "colab": {
          "base_uri": "https://localhost:8080/"
        },
        "outputId": "c5bc79e3-6ca8-4c7e-d4bd-875f63e9e0c8"
      },
      "execution_count": null,
      "outputs": [
        {
          "output_type": "stream",
          "name": "stdout",
          "text": [
            "Mounted at /content/drive/\n"
          ]
        }
      ]
    },
    {
      "cell_type": "code",
      "source": [
        "import os # os is for handling the files\n",
        "import pickle # pickle is for storing numpy features, we will use it to store the extracted image feature in it\n",
        "import numpy as np \n",
        "import cv2\n",
        "from tqdm.notebook import tqdm # it is used to show how much data is proceessed till now, helpful for getting estimation for the overall process.\n",
        "\n",
        "# Tensorflow and keras modules: \n",
        "from tensorflow.keras.applications.vgg16 import VGG16, preprocess_input  # This is for extracing features from the image data. \n",
        "from tensorflow.keras.preprocessing.image import load_img, img_to_array\n",
        "from tensorflow.keras.preprocessing.text import Tokenizer # For text Preprocessing\n",
        "from tensorflow.keras.preprocessing.sequence import pad_sequences # pad sequence will even out the whole text representation of features, example a sentence with 10 words and other with 6 words so we have to fill out with zeros\n",
        "from tensorflow.keras.models import Model\n",
        "from tensorflow.keras.utils import to_categorical, plot_model # this will give a clear representation of the whole model in terms of an image, so it will be easy to see the archietecture of a model\n",
        "from tensorflow.keras.layers import Input, Dense, LSTM,Embedding, Dropout, add"
      ],
      "metadata": {
        "id": "hZelmtx3lebb"
      },
      "execution_count": null,
      "outputs": []
    },
    {
      "cell_type": "code",
      "source": [
        "cwd = os.getcwd()"
      ],
      "metadata": {
        "id": "H2SqXYPllenZ"
      },
      "execution_count": null,
      "outputs": []
    },
    {
      "cell_type": "code",
      "source": [
        "cwd"
      ],
      "metadata": {
        "colab": {
          "base_uri": "https://localhost:8080/",
          "height": 36
        },
        "id": "JYuNMIFaleoM",
        "outputId": "92c0cd7c-572e-458b-8a1f-9bcbb4b4ce2f"
      },
      "execution_count": null,
      "outputs": [
        {
          "output_type": "execute_result",
          "data": {
            "text/plain": [
              "'/content'"
            ],
            "application/vnd.google.colaboratory.intrinsic+json": {
              "type": "string"
            }
          },
          "metadata": {},
          "execution_count": 4
        }
      ]
    },
    {
      "cell_type": "markdown",
      "source": [
        "## **Extract Image Features**"
      ],
      "metadata": {
        "id": "TaSUlPLEL80i"
      }
    },
    {
      "cell_type": "code",
      "source": [
        "# Load vgg16 model: \n",
        "model = VGG16()\n",
        "# restructure the model:\n",
        "model=Model(inputs=model.inputs,outputs=model.layers[-2].output)\n",
        "# summarize\n",
        "print(model.summary())"
      ],
      "metadata": {
        "colab": {
          "base_uri": "https://localhost:8080/"
        },
        "id": "m_S-LtOvMT1G",
        "outputId": "07f8c5e9-a99a-4a24-d3a4-89eb01f2069b"
      },
      "execution_count": null,
      "outputs": [
        {
          "output_type": "stream",
          "name": "stdout",
          "text": [
            "Downloading data from https://storage.googleapis.com/tensorflow/keras-applications/vgg16/vgg16_weights_tf_dim_ordering_tf_kernels.h5\n",
            "553467904/553467096 [==============================] - 14s 0us/step\n",
            "553476096/553467096 [==============================] - 14s 0us/step\n",
            "Model: \"model\"\n",
            "_________________________________________________________________\n",
            " Layer (type)                Output Shape              Param #   \n",
            "=================================================================\n",
            " input_1 (InputLayer)        [(None, 224, 224, 3)]     0         \n",
            "                                                                 \n",
            " block1_conv1 (Conv2D)       (None, 224, 224, 64)      1792      \n",
            "                                                                 \n",
            " block1_conv2 (Conv2D)       (None, 224, 224, 64)      36928     \n",
            "                                                                 \n",
            " block1_pool (MaxPooling2D)  (None, 112, 112, 64)      0         \n",
            "                                                                 \n",
            " block2_conv1 (Conv2D)       (None, 112, 112, 128)     73856     \n",
            "                                                                 \n",
            " block2_conv2 (Conv2D)       (None, 112, 112, 128)     147584    \n",
            "                                                                 \n",
            " block2_pool (MaxPooling2D)  (None, 56, 56, 128)       0         \n",
            "                                                                 \n",
            " block3_conv1 (Conv2D)       (None, 56, 56, 256)       295168    \n",
            "                                                                 \n",
            " block3_conv2 (Conv2D)       (None, 56, 56, 256)       590080    \n",
            "                                                                 \n",
            " block3_conv3 (Conv2D)       (None, 56, 56, 256)       590080    \n",
            "                                                                 \n",
            " block3_pool (MaxPooling2D)  (None, 28, 28, 256)       0         \n",
            "                                                                 \n",
            " block4_conv1 (Conv2D)       (None, 28, 28, 512)       1180160   \n",
            "                                                                 \n",
            " block4_conv2 (Conv2D)       (None, 28, 28, 512)       2359808   \n",
            "                                                                 \n",
            " block4_conv3 (Conv2D)       (None, 28, 28, 512)       2359808   \n",
            "                                                                 \n",
            " block4_pool (MaxPooling2D)  (None, 14, 14, 512)       0         \n",
            "                                                                 \n",
            " block5_conv1 (Conv2D)       (None, 14, 14, 512)       2359808   \n",
            "                                                                 \n",
            " block5_conv2 (Conv2D)       (None, 14, 14, 512)       2359808   \n",
            "                                                                 \n",
            " block5_conv3 (Conv2D)       (None, 14, 14, 512)       2359808   \n",
            "                                                                 \n",
            " block5_pool (MaxPooling2D)  (None, 7, 7, 512)         0         \n",
            "                                                                 \n",
            " flatten (Flatten)           (None, 25088)             0         \n",
            "                                                                 \n",
            " fc1 (Dense)                 (None, 4096)              102764544 \n",
            "                                                                 \n",
            " fc2 (Dense)                 (None, 4096)              16781312  \n",
            "                                                                 \n",
            "=================================================================\n",
            "Total params: 134,260,544\n",
            "Trainable params: 134,260,544\n",
            "Non-trainable params: 0\n",
            "_________________________________________________________________\n",
            "None\n"
          ]
        }
      ]
    },
    {
      "cell_type": "code",
      "source": [
        "# Use the model to extract features from images: \n",
        "features={}  #Key is the image ID, and the value is the features.\n",
        "directory = os.path.join(cwd,'/content/drive/MyDrive/My Data Files /Images')\n",
        "\n",
        "for img_name in tqdm(os.listdir(directory)):\n",
        "    # Load the image form files \n",
        "    img_path = directory + '/' + img_name\n",
        "    image = load_img(img_path, target_size=(224,224))\n",
        "    # convert image pixels to numpy array:\n",
        "    image = img_to_array(image)\n",
        "    #reshape data for model\n",
        "    image = image.reshape((1,image.shape[0],image.shape[1],image.shape[2])) #rgb IMAGE , that is why we are having three dimensions.\n",
        "    # preprocess image for vgg\n",
        "    image= preprocess_input(image)\n",
        "    #Extract features:\n",
        "    feature= model.predict(image,verbose=0)\n",
        "    #get image ID:\n",
        "    image_id = img_name.split('.')[0]\n",
        "    #Store Feature\n",
        "    features[image_id]=feature"
      ],
      "metadata": {
        "id": "5aYcfV94MUvV",
        "colab": {
          "base_uri": "https://localhost:8080/",
          "height": 49,
          "referenced_widgets": [
            "5d0c9113c49e4bb0ab4bc5658a15b67f",
            "0dec376e25c64d10900e621dc83f170a",
            "df08de6170e24c019e9f51707aa85331",
            "38555afe38864334ba59ea2eac625e41",
            "df66136001474abcb2f9d6d461385db4",
            "baf783c81d7e410dad3e9affb1510740",
            "0ddb402c57594b4cba3a7ab7f1d23c98",
            "3f1da58c19954f6ab5631f2a3c4cbd88",
            "6fa758eccfc14d50966ff7ab5d7d7cdf",
            "adb6bb32dbdb4a48ba83dde9f46a2d97",
            "1d72141fc52143838e28e4500ae8a14e"
          ]
        },
        "outputId": "b4f888f0-00d9-45f7-850d-0e71bf54cab8"
      },
      "execution_count": null,
      "outputs": [
        {
          "output_type": "display_data",
          "data": {
            "text/plain": [
              "  0%|          | 0/8091 [00:00<?, ?it/s]"
            ],
            "application/vnd.jupyter.widget-view+json": {
              "version_major": 2,
              "version_minor": 0,
              "model_id": "5d0c9113c49e4bb0ab4bc5658a15b67f"
            }
          },
          "metadata": {}
        }
      ]
    },
    {
      "cell_type": "code",
      "source": [
        "# Store features in a file so that I don't have to extract them every time I run my code: \n",
        "# Store features  in pickle: \n",
        "pickle.dump(features,open(os.path.join(directory,'features.pkl'),'wb'))  # wb = write binary: we are writing the data into a file\n",
        "# This will dump oir dictionaty into the pickle and we can reload it again "
      ],
      "metadata": {
        "id": "5YjUxq9HMeMg"
      },
      "execution_count": null,
      "outputs": []
    },
    {
      "cell_type": "code",
      "source": [
        "with open(os.path.join('/content/drive/MyDrive/My Data Files /','features.pkl'),'rb') as f:  #rb =read binary: we are reading the data from the file\n",
        "    features= pickle.load(f) "
      ],
      "metadata": {
        "id": "medH0wDTlet9"
      },
      "execution_count": null,
      "outputs": []
    },
    {
      "cell_type": "markdown",
      "source": [
        "**Load the Captions Data**"
      ],
      "metadata": {
        "id": "jwlrx4XhMqIO"
      }
    },
    {
      "cell_type": "code",
      "source": [
        "with open(os.path.join('/content/drive/MyDrive/My Data Files /','Caption.txt'),'r') as f:\n",
        "    next(f)\n",
        "    captions_doc = f.read()  #It will read the whole data"
      ],
      "metadata": {
        "id": "0YSNzzgMleuo"
      },
      "execution_count": null,
      "outputs": []
    },
    {
      "cell_type": "code",
      "source": [
        "# To have the corresponding caption for each image: \n",
        "# Create mapping of image to captions:\n",
        "mapping={}\n",
        "# Process lines:\n",
        "for line in tqdm(captions_doc.split('\\n')):   # Separating each line alone \n",
        "    # Split the line by comma (,)\n",
        "    tokens = line.split(',')   # So tokens of zero will be the image id and tokens of 1 will be the caption.\n",
        "    if len(line)<2:\n",
        "        continue       # some lines might contain errors , only single letter , to avoid that we can use this statement, continue means to skip\n",
        "    image_id,caption = tokens[0], tokens[1:]\n",
        "    # Remove extension from image ID: \n",
        "    image_id = image_id.split('.')[0]\n",
        "    # Convert Caption list to string\n",
        "    caption=\" \".join(caption)\n",
        "    # Image can have multiple captions , so store all captions of each image in a list: Create list if needed:\n",
        "    if image_id not in mapping:\n",
        "        mapping[image_id] = []\n",
        "    # Store the caption:\n",
        "    mapping[image_id].append(caption)  "
      ],
      "metadata": {
        "colab": {
          "base_uri": "https://localhost:8080/",
          "height": 17,
          "referenced_widgets": [
            "4782ab2e4ee04b2391e86bf8493e1cc2",
            "3aa6f926a6b0444087ffc9cf63f8f829",
            "92ceb5c89db2412e96b8838b6c6a5d2e",
            "5e1d476207354a6db514ecca5e4c1fe0",
            "1b49791567244645afdf019aff317640",
            "1fab80628b574383946762a167bc5a98",
            "30af665aaefa473996394e699269f5dc",
            "005b92518e2b48279f7ae44f8b1acdaa",
            "58f5f50a20de4a888dde6454ecd9c8d1",
            "c978a50490c644458cebc72dcdd58417",
            "77e7a98ad6824cabbb331e821a58cd25"
          ]
        },
        "id": "UpYeZCLule0N",
        "outputId": "66204013-103f-434a-a815-11a526d9f954"
      },
      "execution_count": null,
      "outputs": [
        {
          "output_type": "display_data",
          "data": {
            "text/plain": [
              "  0%|          | 0/40456 [00:00<?, ?it/s]"
            ],
            "application/vnd.jupyter.widget-view+json": {
              "version_major": 2,
              "version_minor": 0,
              "model_id": "4782ab2e4ee04b2391e86bf8493e1cc2"
            },
            "application/json": {
              "n": 0,
              "total": 40456,
              "elapsed": 0.027130603790283203,
              "ncols": null,
              "nrows": null,
              "prefix": "",
              "ascii": false,
              "unit": "it",
              "unit_scale": false,
              "rate": null,
              "bar_format": null,
              "postfix": null,
              "unit_divisor": 1000,
              "initial": 0,
              "colour": null
            }
          },
          "metadata": {}
        }
      ]
    },
    {
      "cell_type": "code",
      "source": [
        "len(mapping)"
      ],
      "metadata": {
        "colab": {
          "base_uri": "https://localhost:8080/"
        },
        "id": "LQzyBV2yle08",
        "outputId": "cc17f13c-6cfb-4e14-8b11-aba8176a4956"
      },
      "execution_count": null,
      "outputs": [
        {
          "output_type": "execute_result",
          "data": {
            "text/plain": [
              "8091"
            ]
          },
          "metadata": {},
          "execution_count": 8
        }
      ]
    },
    {
      "cell_type": "markdown",
      "source": [
        "## **Pre-process text data**"
      ],
      "metadata": {
        "id": "_ixveoz4M0ur"
      }
    },
    {
      "cell_type": "code",
      "source": [
        "# Pre-processing Captions: \n",
        "def clean(mapping):\n",
        "    for key,captions in mapping.items():\n",
        "        for i in range(len(captions)): \n",
        "            # Take one caption at a time\n",
        "            caption=captions[i]\n",
        "            # Pre-processing steps: \n",
        "            caption=caption.lower()  \n",
        "            caption=caption.replace('[^A-Za-z]','') # We are only keeping letters, and removing all digits and special characters\n",
        "            caption=caption.replace('\\s+',' ')  # Replace multiple spaces with one space\n",
        "            #caption= '<start> ' +caption + ' <end>' # Adding starting and ending tags, it will help our model when to start and when to end the prediction, if he reach the end tag it will stop\n",
        "            # We also want to remove uncessary or meaningless words, examlpe: A girl is eating icecream , I can remove the A, so instead of caption in the previous step I do this classification:\n",
        "            caption= '<start> ' + \" \".join([word for word in caption.split() if len(word)>1]) + ' <end>'\n",
        "            # Now after pre-processing I want to replace the caption to the corresponding index:\n",
        "            captions[i]= caption"
      ],
      "metadata": {
        "id": "I8dTwvX6le6L"
      },
      "execution_count": null,
      "outputs": []
    },
    {
      "cell_type": "code",
      "source": [
        "# Before text Preprocess: \n",
        "mapping['1000268201_693b08cb0e']"
      ],
      "metadata": {
        "colab": {
          "base_uri": "https://localhost:8080/"
        },
        "id": "KFNljny5tOB-",
        "outputId": "4261111f-2b13-4b15-b11d-21a723f63a3a"
      },
      "execution_count": null,
      "outputs": [
        {
          "output_type": "execute_result",
          "data": {
            "text/plain": [
              "['A child in a pink dress is climbing up a set of stairs in an entry way .',\n",
              " 'A girl going into a wooden building .',\n",
              " 'A little girl climbing into a wooden playhouse .',\n",
              " 'A little girl climbing the stairs to her playhouse .',\n",
              " 'A little girl in a pink dress going into a wooden cabin .']"
            ]
          },
          "metadata": {},
          "execution_count": 10
        }
      ]
    },
    {
      "cell_type": "code",
      "source": [
        "# After text Preprocess:\n",
        "clean(mapping)"
      ],
      "metadata": {
        "id": "MaG9FxebtOFT"
      },
      "execution_count": null,
      "outputs": []
    },
    {
      "cell_type": "code",
      "source": [
        "mapping['1000268201_693b08cb0e']"
      ],
      "metadata": {
        "colab": {
          "base_uri": "https://localhost:8080/"
        },
        "id": "U3f1lLr_tOIe",
        "outputId": "9911f63d-3ffe-4d01-d4cd-08fdd4d1d00d"
      },
      "execution_count": null,
      "outputs": [
        {
          "output_type": "execute_result",
          "data": {
            "text/plain": [
              "['<start> child in pink dress is climbing up set of stairs in an entry way <end>',\n",
              " '<start> girl going into wooden building <end>',\n",
              " '<start> little girl climbing into wooden playhouse <end>',\n",
              " '<start> little girl climbing the stairs to her playhouse <end>',\n",
              " '<start> little girl in pink dress going into wooden cabin <end>']"
            ]
          },
          "metadata": {},
          "execution_count": 12
        }
      ]
    },
    {
      "cell_type": "code",
      "source": [
        "### Continue Pre-processing; Tokenization of texts: \n",
        "# First have all the captions in one list:\n",
        "all_captions =[]\n",
        "for key in mapping:\n",
        "    for caption in mapping[key]:\n",
        "        all_captions.append(caption)"
      ],
      "metadata": {
        "id": "MN3gjL5ZtOLY"
      },
      "execution_count": null,
      "outputs": []
    },
    {
      "cell_type": "code",
      "source": [
        "len(all_captions) "
      ],
      "metadata": {
        "colab": {
          "base_uri": "https://localhost:8080/"
        },
        "id": "pig0MU89tOO3",
        "outputId": "28fcffbc-630b-4ef1-9089-7208ace82a36"
      },
      "execution_count": null,
      "outputs": [
        {
          "output_type": "execute_result",
          "data": {
            "text/plain": [
              "40455"
            ]
          },
          "metadata": {},
          "execution_count": 14
        }
      ]
    },
    {
      "cell_type": "code",
      "source": [
        "all_captions[:10]"
      ],
      "metadata": {
        "colab": {
          "base_uri": "https://localhost:8080/"
        },
        "id": "kdNAzPoZtOSI",
        "outputId": "299cdf52-fe53-4c36-aff4-424368d914ff"
      },
      "execution_count": null,
      "outputs": [
        {
          "output_type": "execute_result",
          "data": {
            "text/plain": [
              "['<start> child in pink dress is climbing up set of stairs in an entry way <end>',\n",
              " '<start> girl going into wooden building <end>',\n",
              " '<start> little girl climbing into wooden playhouse <end>',\n",
              " '<start> little girl climbing the stairs to her playhouse <end>',\n",
              " '<start> little girl in pink dress going into wooden cabin <end>',\n",
              " '<start> black dog and spotted dog are fighting <end>',\n",
              " '<start> black dog and tri-colored dog playing with each other on the road <end>',\n",
              " '<start> black dog and white dog with brown spots are staring at each other in the street <end>',\n",
              " '<start> two dogs of different breeds looking at each other on the road <end>',\n",
              " '<start> two dogs on pavement moving toward each other <end>']"
            ]
          },
          "metadata": {},
          "execution_count": 15
        }
      ]
    },
    {
      "cell_type": "code",
      "source": [
        "# Tokenize: \n",
        "tokenizer= Tokenizer()\n",
        "tokenizer.fit_on_texts(all_captions)\n",
        "vocab_size= len(tokenizer.word_index)+1"
      ],
      "metadata": {
        "id": "cR3yNFeftOVQ"
      },
      "execution_count": null,
      "outputs": []
    },
    {
      "cell_type": "code",
      "source": [
        "vocab_size"
      ],
      "metadata": {
        "colab": {
          "base_uri": "https://localhost:8080/"
        },
        "id": "D7_9bfu7thPF",
        "outputId": "c4bbd731-d67b-4e38-c22b-edce713c1551"
      },
      "execution_count": null,
      "outputs": [
        {
          "output_type": "execute_result",
          "data": {
            "text/plain": [
              "8483"
            ]
          },
          "metadata": {},
          "execution_count": 17
        }
      ]
    },
    {
      "cell_type": "code",
      "source": [
        "all_captions[:10]"
      ],
      "metadata": {
        "colab": {
          "base_uri": "https://localhost:8080/"
        },
        "id": "lbEZTNy3thSJ",
        "outputId": "7651cc29-4f85-4761-98b6-6a0ae473730f"
      },
      "execution_count": null,
      "outputs": [
        {
          "output_type": "execute_result",
          "data": {
            "text/plain": [
              "['<start> child in pink dress is climbing up set of stairs in an entry way <end>',\n",
              " '<start> girl going into wooden building <end>',\n",
              " '<start> little girl climbing into wooden playhouse <end>',\n",
              " '<start> little girl climbing the stairs to her playhouse <end>',\n",
              " '<start> little girl in pink dress going into wooden cabin <end>',\n",
              " '<start> black dog and spotted dog are fighting <end>',\n",
              " '<start> black dog and tri-colored dog playing with each other on the road <end>',\n",
              " '<start> black dog and white dog with brown spots are staring at each other in the street <end>',\n",
              " '<start> two dogs of different breeds looking at each other on the road <end>',\n",
              " '<start> two dogs on pavement moving toward each other <end>']"
            ]
          },
          "metadata": {},
          "execution_count": 18
        }
      ]
    },
    {
      "cell_type": "code",
      "source": [
        "# max length of the caption:\n",
        "max_length = max(len(caption.split()) for caption in all_captions)\n",
        "max_length   # This variable will be used for padding sequence and while model creation.\n",
        "# As we said before, padding is filling the empty values. "
      ],
      "metadata": {
        "colab": {
          "base_uri": "https://localhost:8080/"
        },
        "id": "XCfpMUS5thVa",
        "outputId": "8afa1dd9-d774-4f7f-dbd0-3b6f3a72d507"
      },
      "execution_count": null,
      "outputs": [
        {
          "output_type": "execute_result",
          "data": {
            "text/plain": [
              "35"
            ]
          },
          "metadata": {},
          "execution_count": 19
        }
      ]
    },
    {
      "cell_type": "markdown",
      "source": [
        "## **Train Test Split**"
      ],
      "metadata": {
        "id": "Ks3NzGKFM9dC"
      }
    },
    {
      "cell_type": "code",
      "source": [
        "# Note: To process the images, turn On GPU and you should have a high capacity of ram.\n",
        "# If we run without splitting the data, the session will be crashed so we will create a separate function \n",
        "# For taking inputs one by one. \n",
        "image_ids = list(mapping.keys())\n",
        "split = int(len(image_ids)*0.85)  # 3mlna split number le hwwi l7d le 90% mn l data \n",
        "train= image_ids[:split]   # Train: kl she l7d ma nosl lal split le r2ma 7000 w she le hyyi 90% mn ldata\n",
        "test=image_ids[split:]   # Test: mn split till the end"
      ],
      "metadata": {
        "id": "yk_Z3zUhthYu"
      },
      "execution_count": null,
      "outputs": []
    },
    {
      "cell_type": "markdown",
      "source": [
        "## **Data Generator Creation**"
      ],
      "metadata": {
        "id": "GFLDFLGNNVBK"
      }
    },
    {
      "cell_type": "code",
      "source": [
        "#### Many images, for each image we have image features and several captions.\n",
        "#### We will create a data generator to fix the image and caption in batch size:\n",
        "#### The batch size defines the number of samples that will be propagated through the network.\n",
        "#### For instance, let's say you have 1050 training samples and you want to set up a batch_size equal to 100. \n",
        "#### The algorithm takes the first 100 samples (from 1st to 100th) from the training dataset and trains the network. \n",
        "#### Next, it takes the second 100 samples (from 101st to 200th) and trains the network again. \n",
        "#### Wecan keep doing this procedure until we have propagated all samples through of the network. Problem might happen with the last set of samples. In our example, we've used 1050 which is not divisible by 100 without remainder. The simplest solution is just to get the final 50 samples and train the network.\n",
        "#### Advantages of using a batch size < number of all samples:\n",
        "#### It requires less memory. Since you train the network using fewer samples, the overall training procedure requires less memory. That's especially important if you are not able to fit the whole dataset in your machine's memory.\n",
        "#### Typically networks train faster with mini-batches. That's because we update the weights after each propagation. In our example we've propagated 11 batches (10 of them had 100 samples and 1 had 50 samples) and after each of them we've updated our network's parameters. If we used all samples during propagation we would make only 1 update for the network's parameter.\n",
        "#### Disadvantages of using a batch size < number of all samples:\n",
        "#### The smaller the batch the less accurate the estimate of the gradient will be."
      ],
      "metadata": {
        "id": "Dqdv3ReUthcN"
      },
      "execution_count": null,
      "outputs": []
    },
    {
      "cell_type": "code",
      "source": [
        "# We have to do this step if we have RAMs around 16gb, if we have rams more than 30 gb no need to do this:\n",
        "# Create data generator to get data in batch ( avoids session crash):\n",
        "def data_generator(data_keys, mapping, features,tokinizer,max_length,vocab_size,batch_size):\n",
        "    # Loop over images\n",
        "    X1,X2,y = list(),list(),list()\n",
        "    n = 0  # To determine wether we reached the batch size or not\n",
        "    while 1:\n",
        "        for key in data_keys:\n",
        "            n+=1\n",
        "            captions=mapping[key]\n",
        "            for caption in captions:\n",
        "                # Encode the sequence\n",
        "                seq = tokenizer.texts_to_sequences([caption])[0]  # For each word, we will be assigning the index\n",
        "                # Split the sequence into x,y pairs:\n",
        "                for i in range(1, len(seq)):\n",
        "                    # Split into input and output pairs: \n",
        "                    in_seq, out_seq = seq[:i], seq[i]\n",
        "                    # pad input sequence\n",
        "                    in_seq = pad_sequences([in_seq], maxlen=max_length)[0]\n",
        "                    # encode the output sequence\n",
        "                    out_seq = to_categorical([out_seq],num_classes=vocab_size)[0]\n",
        "                    # Store the sequence: \n",
        "                    X1.append(features[key][0])\n",
        "                    X2.append(in_seq)\n",
        "                    y.append(out_seq)\n",
        "            if n== batch_size:\n",
        "                X1, X2, y = np.array(X1), np.array(X2), np.array(y)\n",
        "                yield[X1,X2],y\n",
        "                X1,X2,y = list(),list(),list()\n",
        "                n = 0"
      ],
      "metadata": {
        "id": "zyNl2RrNthfj"
      },
      "execution_count": null,
      "outputs": []
    },
    {
      "cell_type": "markdown",
      "source": [
        "## **Encoder Model Creation: epochs = 10 VS epochs = 23**"
      ],
      "metadata": {
        "id": "TOWP10uLNeXB"
      }
    },
    {
      "cell_type": "code",
      "source": [
        "# Image feature model \n",
        "inputs1 = Input(shape=(4096,))   \n",
        "fe1 = Dropout(0.4)(inputs1)\n",
        "fe2 = Dense(256,activation='relu')(fe1)\n",
        "\n",
        "# Sequence Feature Layers: \n",
        "inputs2 = Input(shape=(max_length,))\n",
        "se1 = Embedding(vocab_size,256,mask_zero=True)(inputs2)\n",
        "se2 = Dropout(0.4)(se1)\n",
        "se3 = LSTM(256)(se2)\n",
        "### Decoder Model Creation\n",
        "decoder1 = add([fe2,se3])\n",
        "decoder2 = Dense(256,activation='relu')(decoder1)\n",
        "outputs = Dense(vocab_size,activation='softmax')(decoder2)          \n",
        "\n",
        "model = Model(inputs=[inputs1,inputs2],outputs=outputs)\n",
        "model.compile(loss='categorical_crossentropy',optimizer='adam')\n",
        "\n",
        "# plot the model \n",
        "plot_model(model,show_shapes=True)\n",
        "\n",
        "## We have two inputs and one outputs \n",
        "## input layer 6 is for the image , then we have the dropout and dense layer for it\n",
        "## input layer 7 is for texting, with Embedding , Dropout and LSTM \n",
        "## Integrating CNN with LSTM into single dense layer\n",
        "## 8483 is the categorical one hot encoding"
      ],
      "metadata": {
        "colab": {
          "base_uri": "https://localhost:8080/",
          "height": 754
        },
        "id": "u5nFsWTVthib",
        "outputId": "cd035f7b-d37e-4427-b8f5-c5289f0a8f41"
      },
      "execution_count": null,
      "outputs": [
        {
          "output_type": "execute_result",
          "data": {
            "image/png": "[encoded data removed]",
            "text/plain": [
              "<IPython.core.display.Image object>"
            ]
          },
          "metadata": {},
          "execution_count": 23
        }
      ]
    },
    {
      "cell_type": "markdown",
      "source": [
        "## **Model Training**"
      ],
      "metadata": {
        "id": "dEMMHOPENkTL"
      }
    },
    {
      "cell_type": "code",
      "source": [
        "epochs = 10\n",
        "batch_size= 64\n",
        "steps = len(train)//batch_size  # After each step it will do the back propagation\n",
        "\n",
        "for i in range(epochs):\n",
        "    # Create data generator:\n",
        "    generator = data_generator(train, mapping, features, tokenizer, max_length, vocab_size,batch_size)\n",
        "    # fit for one epoch:\n",
        "    model.fit(generator, epochs=1, steps_per_epoch=steps,verbose=1)"
      ],
      "metadata": {
        "colab": {
          "base_uri": "https://localhost:8080/"
        },
        "id": "4RWtZtbBthl-",
        "outputId": "03788967-34e3-41f4-f2e2-b3c632a673f1"
      },
      "execution_count": null,
      "outputs": [
        {
          "output_type": "stream",
          "name": "stdout",
          "text": [
            "107/107 [==============================] - 46s 364ms/step - loss: 5.5993\n",
            "107/107 [==============================] - 38s 355ms/step - loss: 4.5378\n",
            "107/107 [==============================] - 38s 352ms/step - loss: 3.9052\n",
            "107/107 [==============================] - 39s 363ms/step - loss: 3.5798\n",
            "107/107 [==============================] - 38s 354ms/step - loss: 3.3583\n",
            "107/107 [==============================] - 38s 353ms/step - loss: 3.1864\n",
            "107/107 [==============================] - 39s 362ms/step - loss: 3.0455\n",
            "107/107 [==============================] - 38s 354ms/step - loss: 2.9324\n",
            "107/107 [==============================] - 39s 368ms/step - loss: 2.8405\n",
            "107/107 [==============================] - 39s 367ms/step - loss: 2.7604\n"
          ]
        }
      ]
    },
    {
      "cell_type": "code",
      "source": [
        "# Function to tranform the output integer of the model to word: \n",
        "def idx_to_word(integer, tokenizer):\n",
        "  for word, index in tokenizer.word_index.items():\n",
        "    if index == integer:\n",
        "      return word \n",
        "  return None"
      ],
      "metadata": {
        "id": "FJVEsilgQrlf"
      },
      "execution_count": null,
      "outputs": []
    },
    {
      "cell_type": "code",
      "source": [
        "# Generate caption for an image: \n",
        "def predict_caption(model , image, tokenizer, max_length):\n",
        "  # Add start tag for generation     \n",
        "  in_text = 'start'\n",
        "  # Iterate over the max length of sequence\n",
        "  for i in range(max_length):\n",
        "    #Encode input sequence\n",
        "    sequence = tokenizer.texts_to_sequences([in_text])[0]\n",
        "    # pad the sequence\n",
        "    sequence = pad_sequences([sequence], max_length)\n",
        "    # Predict next word\n",
        "    yhat = model.predict([image , sequence], verbose=0)  # This will give the probability of 8000 columns, so we will get the index of highest probability\n",
        "    # Get index with highest probability\n",
        "    yhat = np.argmax(yhat)\n",
        "    # convert index to word\n",
        "    word = idx_to_word( yhat, tokenizer)\n",
        "    # stop if word not found: \n",
        "    if word is None: \n",
        "      break\n",
        "    # append word as input for generating next word\n",
        "    in_text += \" \" + word # predicted word\n",
        "    # stop of we reach end tag\n",
        "    if word == 'end':\n",
        "      break\n",
        "  return in_text"
      ],
      "metadata": {
        "id": "2d0saFLYQrtr"
      },
      "execution_count": null,
      "outputs": []
    },
    {
      "cell_type": "code",
      "source": [
        "from nltk.translate.bleu_score import corpus_bleu\n",
        "# Validate with test data : \n",
        "actual , predicted = list(), list()\n",
        "\n",
        "for key in tqdm(test):\n",
        "  # get actual caption\n",
        "  captions = mapping[key]\n",
        "  # predict the caption for image \n",
        "  y_pred = predict_caption( model, features[key], tokenizer , max_length)\n",
        "  # Split into words\n",
        "  actual_captions = [caption.split() for caption in captions]  # This will generate a list of all the words in the caption , so it will be in an order\n",
        "  y_pred = y_pred.split()\n",
        "  # Append to the list\n",
        "  actual.append(actual_captions)\n",
        "  predicted.append(y_pred)\n",
        "\n",
        "# Calculate BLEU Score : We have to consider this score whenever we have to deal with the test data. \n",
        "print(\"BLEU-1: %f\" % corpus_bleu(actual, predicted, weights =(1.0,0,0,0)))\n",
        "print(\"BLEU-2: %f\" % corpus_bleu(actual, predicted, weights =(0.5,0.5,0,0)))"
      ],
      "metadata": {
        "colab": {
          "base_uri": "https://localhost:8080/",
          "height": 84,
          "referenced_widgets": [
            "beb719da628142768a75fb32cab0b400",
            "16a003bd7ed6476bb486974048b0c12a",
            "752bbbd27bc048778e712a7d8608ba31",
            "8f42953f17f54942bf1d3d3d7ff2c37c",
            "3a1fb3e4fa844f91bdb4987f13f68ea1",
            "4c8a67947552415d840ca2151417717f",
            "567820eb23fd4facaf32d83665888f6c",
            "d271c18eff584ae5807744d7fb0f4717",
            "99decc32eec7424380d12e2e8d3b2629",
            "706b2e8e2abf4e40b6f7b3949fcf197f",
            "bba207c5dad046d99292ec05be0369fb"
          ]
        },
        "id": "vjQ_ILiPQrxI",
        "outputId": "b7960c5e-3100-4551-f9fe-c5caf5cc34bc"
      },
      "execution_count": null,
      "outputs": [
        {
          "output_type": "display_data",
          "data": {
            "text/plain": [
              "  0%|          | 0/1214 [00:00<?, ?it/s]"
            ],
            "application/vnd.jupyter.widget-view+json": {
              "version_major": 2,
              "version_minor": 0,
              "model_id": "beb719da628142768a75fb32cab0b400"
            }
          },
          "metadata": {}
        },
        {
          "output_type": "stream",
          "name": "stdout",
          "text": [
            "BLEU-1: 0.34100\n",
            "BLEU-1: 0.28997\n"
          ]
        }
      ]
    },
    {
      "cell_type": "markdown",
      "source": [
        "## **Encoder Model Creation: epochs = 23 and batch_size = 32**"
      ],
      "metadata": {
        "id": "wjkxSZKOi5dS"
      }
    },
    {
      "cell_type": "code",
      "source": [
        "epochs = 23\n",
        "batch_size= 32\n",
        "steps = len(train)//batch_size  # After each step it will do the back propagation\n",
        "\n",
        "for i in range(epochs):\n",
        "    # Create data generator:\n",
        "    generator = data_generator(train, mapping, features, tokenizer, max_length, vocab_size,batch_size)\n",
        "    # fit for one epoch:\n",
        "    model.fit(generator, epochs=1, steps_per_epoch=steps,verbose=1)"
      ],
      "metadata": {
        "colab": {
          "base_uri": "https://localhost:8080/"
        },
        "outputId": "37bc5574-c928-472a-f246-f15b5a9c5712",
        "id": "dYormzdCjc_s"
      },
      "execution_count": null,
      "outputs": [
        {
          "output_type": "stream",
          "name": "stdout",
          "text": [
            "214/214 [==============================] - 56s 232ms/step - loss: 5.2580\n",
            "214/214 [==============================] - 51s 237ms/step - loss: 4.0502\n",
            "214/214 [==============================] - 51s 238ms/step - loss: 3.6108\n",
            "214/214 [==============================] - 51s 236ms/step - loss: 3.3433\n",
            "214/214 [==============================] - 51s 236ms/step - loss: 3.1485\n",
            "214/214 [==============================] - 51s 238ms/step - loss: 3.0045\n",
            "214/214 [==============================] - 51s 238ms/step - loss: 2.8859\n",
            "214/214 [==============================] - 51s 237ms/step - loss: 2.7857\n",
            "214/214 [==============================] - 51s 237ms/step - loss: 2.7055\n",
            "214/214 [==============================] - 52s 241ms/step - loss: 2.6305\n",
            "214/214 [==============================] - 53s 245ms/step - loss: 2.5702\n",
            "214/214 [==============================] - 51s 239ms/step - loss: 2.5135\n",
            "214/214 [==============================] - 51s 238ms/step - loss: 2.4603\n",
            "214/214 [==============================] - 52s 242ms/step - loss: 2.4118\n",
            "214/214 [==============================] - 51s 239ms/step - loss: 2.3700\n",
            "214/214 [==============================] - 52s 241ms/step - loss: 2.3308\n",
            "214/214 [==============================] - 51s 239ms/step - loss: 2.2918\n",
            "214/214 [==============================] - 53s 247ms/step - loss: 2.2579\n",
            "214/214 [==============================] - 52s 242ms/step - loss: 2.2267\n",
            "214/214 [==============================] - 53s 246ms/step - loss: 2.1966\n",
            "214/214 [==============================] - 53s 247ms/step - loss: 2.1653\n",
            "214/214 [==============================] - 53s 246ms/step - loss: 2.1371\n",
            "214/214 [==============================] - 52s 244ms/step - loss: 2.1136\n"
          ]
        }
      ]
    },
    {
      "cell_type": "code",
      "source": [
        "from nltk.translate.bleu_score import corpus_bleu\n",
        "# Validate with test data : \n",
        "actual , predicted = list(), list()\n",
        "\n",
        "for key in tqdm(test):\n",
        "  # get actual caption\n",
        "  captions = mapping[key]\n",
        "  # predict the caption for image \n",
        "  y_pred = predict_caption( model, features[key], tokenizer , max_length)\n",
        "  # Split into words\n",
        "  actual_captions = [caption.split() for caption in captions]  # This will generate a list of all the words in the caption , so it will be in an order\n",
        "  y_pred = y_pred.split()\n",
        "  # Append to the list\n",
        "  actual.append(actual_captions)\n",
        "  predicted.append(y_pred)\n",
        "\n",
        "# Calculate BLEU Score : We have to consider this score whenever we have to deal with the test data. \n",
        "print(\"BLEU-1: %f\" % corpus_bleu(actual, predicted, weights =(1.0,0,0,0)))\n",
        "print(\"BLEU-2: %f\" % corpus_bleu(actual, predicted, weights =(0.5,0.5,0,0)))"
      ],
      "metadata": {
        "colab": {
          "base_uri": "https://localhost:8080/",
          "height": 84,
          "referenced_widgets": [
            "81d77337b0a4484d8f0e9932b214e88d",
            "d329164604f74c699af41e84b5dc9770",
            "6a689648c01241bba035eced74f25b0b",
            "66fa6e8684c24d9db629dd1f86442cc0",
            "63e9105169d34ab2a8d0d3549b9c3f8e",
            "66f21e1856ec46c0a92becbfe0686ee2",
            "bc9a54cb81a04d66a443624a7d79ddda",
            "43ab9223a60441b4aab87512a125dff8",
            "d2aec6135ced4ba380de5f75099333ed",
            "47af776082ca49449b8736816590745f",
            "a482a7df8283486fa11f5b01dc08652b"
          ]
        },
        "outputId": "7dfa1d9f-8b84-4659-c69e-5d1eedefc3a7",
        "id": "jG1usYvepmIB"
      },
      "execution_count": null,
      "outputs": [
        {
          "output_type": "display_data",
          "data": {
            "text/plain": [
              "  0%|          | 0/1214 [00:00<?, ?it/s]"
            ],
            "application/vnd.jupyter.widget-view+json": {
              "version_major": 2,
              "version_minor": 0,
              "model_id": "81d77337b0a4484d8f0e9932b214e88d"
            }
          },
          "metadata": {}
        },
        {
          "output_type": "stream",
          "name": "stdout",
          "text": [
            "BLEU-1: 0.45233\n",
            "BLEU-1: 0.49855\n"
          ]
        }
      ]
    },
    {
      "cell_type": "markdown",
      "source": [
        "## **Encoder Model Creation: epochs = 23, batch_size = 64, optimizer = adam**"
      ],
      "metadata": {
        "id": "yWocgyxCtESH"
      }
    },
    {
      "cell_type": "code",
      "source": [
        "epochs = 23\n",
        "batch_size= 64\n",
        "steps = len(train)//batch_size  # After each step it will do the back propagation\n",
        "\n",
        "for i in range(epochs):\n",
        "    # Create data generator:\n",
        "    generator = data_generator(train, mapping, features, tokenizer, max_length, vocab_size,batch_size)\n",
        "    # fit for one epoch:\n",
        "    model.fit(generator, epochs=1, steps_per_epoch=steps,verbose=1)"
      ],
      "metadata": {
        "colab": {
          "base_uri": "https://localhost:8080/"
        },
        "id": "BTD3d94OjV1q",
        "outputId": "f917feba-4480-4e17-a219-5c2b935ce076"
      },
      "execution_count": null,
      "outputs": [
        {
          "output_type": "stream",
          "name": "stdout",
          "text": [
            "107/107 [==============================] - 44s 354ms/step - loss: 5.6426\n",
            "107/107 [==============================] - 39s 360ms/step - loss: 4.5435\n",
            "107/107 [==============================] - 38s 352ms/step - loss: 3.9189\n",
            "107/107 [==============================] - 38s 353ms/step - loss: 3.5977\n",
            "107/107 [==============================] - 39s 360ms/step - loss: 3.3768\n",
            "107/107 [==============================] - 37s 348ms/step - loss: 3.2087\n",
            "107/107 [==============================] - 37s 349ms/step - loss: 3.0786\n",
            "107/107 [==============================] - 37s 349ms/step - loss: 2.9712\n",
            "107/107 [==============================] - 38s 354ms/step - loss: 2.8825\n",
            "107/107 [==============================] - 37s 346ms/step - loss: 2.8007\n",
            "107/107 [==============================] - 37s 347ms/step - loss: 2.7287\n",
            "107/107 [==============================] - 37s 345ms/step - loss: 2.6705\n",
            "107/107 [==============================] - 37s 350ms/step - loss: 2.6125\n",
            "107/107 [==============================] - 37s 345ms/step - loss: 2.5563\n",
            "107/107 [==============================] - 36s 341ms/step - loss: 2.5021\n",
            "107/107 [==============================] - 37s 344ms/step - loss: 2.4616\n",
            "107/107 [==============================] - 39s 364ms/step - loss: 2.4173\n",
            "107/107 [==============================] - 38s 351ms/step - loss: 2.3783\n",
            "107/107 [==============================] - 38s 351ms/step - loss: 2.3404\n",
            "107/107 [==============================] - 38s 355ms/step - loss: 2.3044\n",
            "107/107 [==============================] - 39s 369ms/step - loss: 2.2716\n",
            "107/107 [==============================] - 39s 363ms/step - loss: 2.2405\n",
            "107/107 [==============================] - 39s 362ms/step - loss: 2.2091\n"
          ]
        }
      ]
    },
    {
      "cell_type": "code",
      "source": [
        "from nltk.translate.bleu_score import corpus_bleu\n",
        "# Validate with test data : \n",
        "actual , predicted = list(), list()\n",
        "\n",
        "for key in tqdm(test):\n",
        "  # get actual caption\n",
        "  captions = mapping[key]\n",
        "  # predict the caption for image \n",
        "  y_pred = predict_caption( model, features[key], tokenizer , max_length)\n",
        "  # Split into words\n",
        "  actual_captions = [caption.split() for caption in captions]  # This will generate a list of all the words in the caption , so it will be in an order\n",
        "  y_pred = y_pred.split()\n",
        "  # Append to the list\n",
        "  actual.append(actual_captions)\n",
        "  predicted.append(y_pred)\n",
        "\n",
        "# Calculate BLEU Score : We have to consider this score whenever we have to deal with the test data. \n",
        "print(\"BLEU-1: %f\" % corpus_bleu(actual, predicted, weights =(1.0,0,0,0)))\n",
        "print(\"BLEU-2: %f\" % corpus_bleu(actual, predicted, weights =(0.5,0.5,0,0)))"
      ],
      "metadata": {
        "id": "FduNjRtxjV5E",
        "colab": {
          "base_uri": "https://localhost:8080/",
          "height": 84,
          "referenced_widgets": [
            "b9ac8900db32436ab8c3628e3ea76f75",
            "56562c339f5a493aa8a194e4d6694533",
            "891c8f79590242079bcbcda1adeb925a",
            "24fb917dacb74a2babefeb272d88b111",
            "34db84bdefae448ea11bd69eaa4a3f78",
            "337b75641a074ccc867fbba88eb26790",
            "d33282ec00464a81add35412faaca3fa",
            "0665f6dd313a4322978b2710b39c86af",
            "19ce2b37720f4a78836cfcfb746f8a4b",
            "a2dafa7be4a3418d86723b82c47dcb76",
            "8fe3b74f05ac494089814e7665a8c34a"
          ]
        },
        "outputId": "d97e997f-c8ad-4fbf-f682-3bdc47335aef"
      },
      "execution_count": null,
      "outputs": [
        {
          "output_type": "display_data",
          "data": {
            "text/plain": [
              "  0%|          | 0/1214 [00:00<?, ?it/s]"
            ],
            "application/vnd.jupyter.widget-view+json": {
              "version_major": 2,
              "version_minor": 0,
              "model_id": "b9ac8900db32436ab8c3628e3ea76f75"
            }
          },
          "metadata": {}
        },
        {
          "output_type": "stream",
          "name": "stdout",
          "text": [
            "BLEU-1: 0.49928\n",
            "BLEU-1: 0.52633\n"
          ]
        }
      ]
    },
    {
      "cell_type": "code",
      "source": [
        "# Save the model\n",
        "model.save('/content/drive/MyDrive/My Data Files /'+'/best_model')"
      ],
      "metadata": {
        "colab": {
          "base_uri": "https://localhost:8080/"
        },
        "id": "RuR_T67uFwBp",
        "outputId": "a6d2f82a-18ee-48b8-8c2d-e41b3f6f73bb"
      },
      "execution_count": null,
      "outputs": [
        {
          "output_type": "stream",
          "name": "stderr",
          "text": [
            "WARNING:absl:Found untraced functions such as lstm_cell_layer_call_fn, lstm_cell_layer_call_and_return_conditional_losses while saving (showing 2 of 2). These functions will not be directly callable after loading.\n",
            "WARNING:absl:<keras.layers.recurrent.LSTMCell object at 0x7f304660a050> has the same name 'LSTMCell' as a built-in Keras object. Consider renaming <class 'keras.layers.recurrent.LSTMCell'> to avoid naming conflicts when loading with `tf.keras.models.load_model`. If renaming is not possible, pass the object in the `custom_objects` parameter of the load function.\n"
          ]
        }
      ]
    },
    {
      "cell_type": "code",
      "source": [
        "## Visualize the results\n",
        "from PIL import Image  # To load the image \n",
        "import matplotlib.pyplot as plt\n",
        "def generate_caption(image_name):\n",
        "  image_id = image_name.split('.')[0]\n",
        "  img_path = os.path('/content/drive/MyDrive/My Data Files /Images/', image_name)\n",
        "  # predict the caption\n",
        "  y_pred = predict_caption(model, features[image_id], tokenizer, max_length)\n",
        "  print('------------------Predicted------------------')\n",
        "  print(y_pred)\n",
        "  plt.imshow(image)"
      ],
      "metadata": {
        "id": "nzRH_UXJFwbS"
      },
      "execution_count": null,
      "outputs": []
    },
    {
      "cell_type": "code",
      "source": [
        "generate_caption('1002674143_1b742ab4b8.jpg')"
      ],
      "metadata": {
        "colab": {
          "base_uri": "https://localhost:8080/",
          "height": 304
        },
        "id": "9WFgUIc-GVsH",
        "outputId": "8576359a-b84e-4282-abf4-13e44ebad502"
      },
      "execution_count": null,
      "outputs": [
        {
          "output_type": "stream",
          "name": "stdout",
          "text": [
            "------------------Predicted------------------\n",
            "little girl painting rainbow\n"
          ]
        },
        {
          "output_type": "display_data",
          "data": {
            "text/plain": [
              "<Figure size 432x288 with 1 Axes>"
            ],
            "image/png": "[encoded data removed]"
          },
          "metadata": {
            "needs_background": "light"
          }
        }
      ]
    },
    {
      "cell_type": "code",
      "source": [
        "generate_caption('dog-dog-rough-play.jpg')"
      ],
      "metadata": {
        "colab": {
          "base_uri": "https://localhost:8080/",
          "height": 304
        },
        "id": "X9VAm7WBGVyi",
        "outputId": "951b7c5d-42c3-45e1-94c9-3740041b7f90"
      },
      "execution_count": null,
      "outputs": [
        {
          "output_type": "stream",
          "name": "stdout",
          "text": [
            "------------------Predicted------------------\n",
            "dogs fighting against each other in physical fight\n"
          ]
        },
        {
          "output_type": "display_data",
          "data": {
            "text/plain": [
              "<Figure size 432x288 with 1 Axes>"
            ],
            "image/png": "[encoded data removed]"
          },
          "metadata": {
            "needs_background": "light"
          }
        }
      ]
    },
    {
      "cell_type": "markdown",
      "source": [
        "## **Encoder Model Creation: epochs = 23, batch_size = 64, optimizer = RMSprop**"
      ],
      "metadata": {
        "id": "tLFtitTi2ry0"
      }
    },
    {
      "cell_type": "code",
      "source": [
        "# Image feature model \n",
        "inputs1 = Input(shape=(4096,))   \n",
        "fe1 = Dropout(0.4)(inputs1)\n",
        "fe2 = Dense(256,activation='relu')(fe1)\n",
        "\n",
        "# Sequence Feature Layers: \n",
        "inputs2 = Input(shape=(max_length,))\n",
        "se1 = Embedding(vocab_size,256,mask_zero=True)(inputs2)\n",
        "se2 = Dropout(0.4)(se1)\n",
        "se3 = LSTM(256)(se2)\n",
        "### Decoder Model Creation\n",
        "decoder1 = add([fe2,se3])\n",
        "decoder2 = Dense(256,activation='relu')(decoder1)\n",
        "outputs = Dense(vocab_size,activation='softmax')(decoder2)          \n",
        "\n",
        "model = Model(inputs=[inputs1,inputs2],outputs=outputs)\n",
        "model.compile(loss='categorical_crossentropy',optimizer='RMSprop')"
      ],
      "metadata": {
        "id": "LLJ8QEmojWAF"
      },
      "execution_count": null,
      "outputs": []
    },
    {
      "cell_type": "code",
      "source": [
        "epochs = 23\n",
        "batch_size= 64\n",
        "steps = len(train)//batch_size  # After each step it will do the back propagation\n",
        "\n",
        "for i in range(epochs):\n",
        "    # Create data generator:\n",
        "    generator = data_generator(train, mapping, features, tokenizer, max_length, vocab_size,batch_size)\n",
        "    # fit for one epoch:\n",
        "    model.fit(generator, epochs=1, steps_per_epoch=steps,verbose=1)"
      ],
      "metadata": {
        "id": "ED5zmX6SjWDq"
      },
      "execution_count": null,
      "outputs": []
    },
    {
      "cell_type": "code",
      "source": [
        "from nltk.translate.bleu_score import corpus_bleu\n",
        "# Validate with test data : \n",
        "actual , predicted = list(), list()\n",
        "\n",
        "for key in tqdm(test):\n",
        "  # get actual caption\n",
        "  captions = mapping[key]\n",
        "  # predict the caption for image \n",
        "  y_pred = predict_caption( model, features[key], tokenizer , max_length)\n",
        "  # Split into words\n",
        "  actual_captions = [caption.split() for caption in captions]  # This will generate a list of all the words in the caption , so it will be in an order\n",
        "  y_pred = y_pred.split()\n",
        "  # Append to the list\n",
        "  actual.append(actual_captions)\n",
        "  predicted.append(y_pred)\n",
        "\n",
        "# Calculate BLEU Score : We have to consider this score whenever we have to deal with the test data. \n",
        "print(\"BLEU-1: %f\" % corpus_bleu(actual, predicted, weights =(1.0,0,0,0)))\n",
        "print(\"BLEU-2: %f\" % corpus_bleu(actual, predicted, weights =(0.5,0.5,0,0)))"
      ],
      "metadata": {
        "id": "RKimo5CVjWJb"
      },
      "execution_count": null,
      "outputs": []
    },
    {
      "cell_type": "code",
      "source": [
        "epochs = 23\n",
        "batch_size= 64\n",
        "steps = len(train)//batch_size  # After each step it will do the back propagation\n",
        "\n",
        "for i in range(epochs):\n",
        "    # Create data generator:\n",
        "    generator = data_generator(train, mapping, features, tokenizer, max_length, vocab_size,batch_size)\n",
        "    # fit for one epoch:\n",
        "    model.fit(generator, epochs=1, steps_per_epoch=steps,verbose=1)"
      ],
      "metadata": {
        "colab": {
          "base_uri": "https://localhost:8080/"
        },
        "id": "095jUWufVJKM",
        "outputId": "1201e1a2-ebf2-4f08-df38-d3162cca0dda"
      },
      "execution_count": null,
      "outputs": [
        {
          "output_type": "stream",
          "name": "stdout",
          "text": [
            "107/107 [==============================] - 42s 329ms/step - loss: 5.6651\n",
            "107/107 [==============================] - 36s 333ms/step - loss: 4.5591\n",
            "107/107 [==============================] - 36s 336ms/step - loss: 3.8905\n",
            "107/107 [==============================] - 35s 331ms/step - loss: 3.5686\n",
            "107/107 [==============================] - 35s 328ms/step - loss: 3.3523\n",
            "107/107 [==============================] - 36s 341ms/step - loss: 3.1847\n",
            "107/107 [==============================] - 35s 330ms/step - loss: 3.0521\n",
            "107/107 [==============================] - 35s 330ms/step - loss: 2.9466\n",
            "107/107 [==============================] - 35s 328ms/step - loss: 2.8538\n",
            "107/107 [==============================] - 35s 326ms/step - loss: 2.7750\n",
            "107/107 [==============================] - 35s 328ms/step - loss: 2.7085\n",
            "107/107 [==============================] - 35s 328ms/step - loss: 2.6423\n",
            "107/107 [==============================] - 36s 335ms/step - loss: 2.5858\n",
            "107/107 [==============================] - 35s 326ms/step - loss: 2.5363\n",
            "107/107 [==============================] - 35s 327ms/step - loss: 2.4931\n",
            "107/107 [==============================] - 36s 338ms/step - loss: 2.4514\n",
            "107/107 [==============================] - 36s 336ms/step - loss: 2.4123\n",
            "107/107 [==============================] - 37s 342ms/step - loss: 2.3740\n",
            "107/107 [==============================] - 36s 335ms/step - loss: 2.3442\n",
            "107/107 [==============================] - 36s 337ms/step - loss: 2.3126\n",
            "107/107 [==============================] - 38s 356ms/step - loss: 2.2785\n",
            "107/107 [==============================] - 37s 347ms/step - loss: 2.2454\n",
            "107/107 [==============================] - 37s 347ms/step - loss: 2.2135\n"
          ]
        }
      ]
    },
    {
      "cell_type": "code",
      "source": [
        "directory = os.path.join(cwd,'/content/drive/MyDrive/My Data Files /')\n",
        "pickle.dump(model,open(os.path.join(directory,'model.pkl'),'wb')) "
      ],
      "metadata": {
        "colab": {
          "base_uri": "https://localhost:8080/"
        },
        "id": "dGI65xfPVJNN",
        "outputId": "36b0faf5-05e1-42c2-d909-713540833a0d"
      },
      "execution_count": null,
      "outputs": [
        {
          "output_type": "stream",
          "name": "stderr",
          "text": [
            "WARNING:absl:Found untraced functions such as lstm_cell_layer_call_fn, lstm_cell_layer_call_and_return_conditional_losses while saving (showing 2 of 2). These functions will not be directly callable after loading.\n",
            "WARNING:absl:<keras.layers.recurrent.LSTMCell object at 0x7f9991f8c350> has the same name 'LSTMCell' as a built-in Keras object. Consider renaming <class 'keras.layers.recurrent.LSTMCell'> to avoid naming conflicts when loading with `tf.keras.models.load_model`. If renaming is not possible, pass the object in the `custom_objects` parameter of the load function.\n"
          ]
        }
      ]
    },
    {
      "cell_type": "code",
      "source": [
        "# Function to tranform the output integer of the model to word: \n",
        "def idx_to_word(integer, tokenizer):\n",
        "  for word, index in tokenizer.word_index.items():\n",
        "    if index == integer:\n",
        "      return word \n",
        "  return None"
      ],
      "metadata": {
        "id": "nbmsOQk7ZyGu"
      },
      "execution_count": null,
      "outputs": []
    },
    {
      "cell_type": "code",
      "source": [
        "# Generate caption for an image: \n",
        "def predict_caption(model , image, tokenizer, max_length):\n",
        "  # Add start tag for generation     \n",
        "  in_text = 'start'\n",
        "  # Iterate over the max length of sequence\n",
        "  for i in range(max_length):\n",
        "    #Encode input sequence\n",
        "    sequence = tokenizer.texts_to_sequences([in_text])[0]\n",
        "    # pad the sequence\n",
        "    sequence = pad_sequences([sequence], max_length)\n",
        "    # Predict next word\n",
        "    yhat = model.predict([image , sequence], verbose=0)  # This will give the probability of 8000 columns, so we will get the index of highest probability\n",
        "    # Get index with highest probability\n",
        "    yhat = np.argmax(yhat)\n",
        "    # convert index to word\n",
        "    word = idx_to_word( yhat, tokenizer)\n",
        "    # stop if word not found: \n",
        "    if word is None: \n",
        "      break\n",
        "    # append word as input for generating next word\n",
        "    in_text += \" \" + word # predicted word\n",
        "    # stop of we reach end tag\n",
        "    if word == 'end':\n",
        "      break\n",
        "  return in_text"
      ],
      "metadata": {
        "id": "Bj4ehiPjZzvY"
      },
      "execution_count": null,
      "outputs": []
    },
    {
      "cell_type": "code",
      "source": [
        "from nltk.translate.bleu_score import corpus_bleu\n",
        "# Validate with test data : \n",
        "actual , predicted = list(), list()\n",
        "\n",
        "for key in tqdm(test):\n",
        "  # get actual caption\n",
        "  captions = mapping[key]\n",
        "  # predict the caption for image \n",
        "  y_pred = predict_caption( model, features[key], tokenizer , max_length)\n",
        "  # Split into words\n",
        "  actual_captions = [caption.split() for caption in captions]  # This will generate a list of all the words in the caption , so it will be in an order\n",
        "  y_pred = y_pred.split()\n",
        "  # Append to the list\n",
        "  actual.append(actual_captions)\n",
        "  predicted.append(y_pred)\n",
        "\n",
        "# Calculate BLEU Score : We have to consider this score whenever we have to deal with the test data. \n",
        "print(\"BLEU-1: %f\" % corpus_bleu(actual, predicted, weights =(1.0,0,0,0)))\n",
        "print(\"BLEU-2: %f\" % corpus_bleu(actual, predicted, weights =(0.5,0.5,0,0)))"
      ],
      "metadata": {
        "colab": {
          "base_uri": "https://localhost:8080/",
          "height": 53,
          "referenced_widgets": [
            "298bcc6db15d4b34be6a161f30b4c608",
            "aab932a349b7469790a3d932ddf745ab",
            "8111d0061b4e4bb792a75bf090d168d9",
            "073d469cf6004df7b32f7c293c11d12d",
            "85090714e9c34a6ba17c34454ecdba92",
            "fdb3ef1adfec41b59f7af6c2779e7db9",
            "43dde403e7c642d09f516381ab555021",
            "3f71202f20e945da8e17325abe2a3368",
            "bbc07b1fff9d4d70b5f5d3c1efad9892",
            "84c0f7e815fc4e36b1101a4a61d5d02b",
            "ab593da7241b42e0994e4faf7b6a62c5"
          ]
        },
        "id": "A-bnt6DbVJQK",
        "outputId": "ed8c034c-8bf7-40c4-e608-92b7ca31f821"
      },
      "execution_count": null,
      "outputs": [
        {
          "output_type": "display_data",
          "data": {
            "text/plain": [
              "  0%|          | 0/1214 [00:00<?, ?it/s]"
            ],
            "application/vnd.jupyter.widget-view+json": {
              "version_major": 2,
              "version_minor": 0,
              "model_id": "298bcc6db15d4b34be6a161f30b4c608"
            },
            "application/json": {
              "n": 0,
              "total": 1214,
              "elapsed": 0.023078441619873047,
              "ncols": null,
              "nrows": null,
              "prefix": "",
              "ascii": false,
              "unit": "it",
              "unit_scale": false,
              "rate": null,
              "bar_format": null,
              "postfix": null,
              "unit_divisor": 1000,
              "initial": 0,
              "colour": null
            }
          },
          "metadata": {}
        },
        {
          "output_type": "stream",
          "name": "stdout",
          "text": [
            "BLEU-1: 0.359190\n",
            "BLEU-2: 0.208434\n"
          ]
        }
      ]
    },
    {
      "cell_type": "code",
      "source": [
        "# Save the model\n",
        "model.save('/content/drive/MyDrive/My Data Files /'+'/best_model_all')"
      ],
      "metadata": {
        "colab": {
          "base_uri": "https://localhost:8080/"
        },
        "id": "fzgxlzPTjlR-",
        "outputId": "504eadf4-f768-4560-b52a-4e11e98e1a10"
      },
      "execution_count": null,
      "outputs": [
        {
          "output_type": "stream",
          "name": "stderr",
          "text": [
            "WARNING:absl:Found untraced functions such as lstm_cell_layer_call_fn, lstm_cell_layer_call_and_return_conditional_losses while saving (showing 2 of 2). These functions will not be directly callable after loading.\n",
            "WARNING:absl:<keras.layers.recurrent.LSTMCell object at 0x7f9991f8c350> has the same name 'LSTMCell' as a built-in Keras object. Consider renaming <class 'keras.layers.recurrent.LSTMCell'> to avoid naming conflicts when loading with `tf.keras.models.load_model`. If renaming is not possible, pass the object in the `custom_objects` parameter of the load function.\n"
          ]
        }
      ]
    }
  ]
}